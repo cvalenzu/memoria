{
 "cells": [
  {
   "cell_type": "code",
   "execution_count": 1,
   "metadata": {
    "collapsed": true
   },
   "outputs": [],
   "source": [
    "import numpy as np\n",
    "import tensorflow as tf\n",
    "import requests\n",
    "import uuid"
   ]
  },
  {
   "cell_type": "code",
   "execution_count": 2,
   "metadata": {
    "collapsed": true
   },
   "outputs": [],
   "source": [
    "class ESNCell(tf.contrib.rnn.RNNCell):\n",
    "    \"\"\"\n",
    "    Echo State Network Cell.\n",
    "\n",
    "    Based on http://www.faculty.jacobs-university.de/hjaeger/pubs/EchoStatesTechRep.pdf\n",
    "    Only the reservoir, the randomized recurrent layer, is modelled. The readout trainable layer\n",
    "    which map reservoir output to the target output is not implemented by this cell,\n",
    "    thus neither are feedback from readout to the reservoir (a quite common technique).\n",
    "\n",
    "    Here a practical guide to use Echo State Networks:\n",
    "    http://minds.jacobs-university.de/sites/default/files/uploads/papers/PracticalESN.pdf\n",
    "\n",
    "    Since at the moment TF doesn't provide a way to compute spectral radius\n",
    "    of a matrix the echo state property necessary condition `max(eig(W)) < 1` is approximated\n",
    "    scaling the norm 2 of the reservoir matrix which is an upper bound of the spectral radius.\n",
    "    See https://en.wikipedia.org/wiki/Matrix_norm, the section on induced norms.\n",
    "\n",
    "    \"\"\"\n",
    "\n",
    "    def __init__(self, num_units, wr2_scale=0.7, connectivity=0.1, leaky=1.0, activation=tf.tanh,\n",
    "               win_init=tf.random_normal_initializer(),\n",
    "               wr_init=tf.random_normal_initializer(),\n",
    "               bias_init=tf.random_normal_initializer()):\n",
    "        \"\"\"Initialize the Echo State Network Cell.\n",
    "\n",
    "        Args:\n",
    "          num_units: Int or 0-D Int Tensor, the number of units in the reservoir\n",
    "          wr2_scale: desired norm2 of reservoir weight matrix.\n",
    "            `wr2_scale < 1` is a sufficient condition for echo state property.\n",
    "          connectivity: connection probability between two reservoir units\n",
    "          leaky: leaky parameter\n",
    "          activation: activation function\n",
    "          win_init: initializer for input weights\n",
    "          wr_init: used to initialize reservoir weights before applying connectivity mask and scaling\n",
    "          bias_init: initializer for biases\n",
    "        \"\"\"\n",
    "        self._num_units = num_units\n",
    "        self._leaky = leaky\n",
    "        self._activation = activation\n",
    "        self._uuid = str(uuid.uuid1())\n",
    "\n",
    "        def _wr_initializer(shape, dtype, partition_info=None):\n",
    "            wr = wr_init(shape, dtype=dtype)\n",
    "\n",
    "            connectivity_mask = tf.cast(\n",
    "              tf.less_equal(\n",
    "                tf.random_uniform(shape),\n",
    "                connectivity),\n",
    "            dtype)\n",
    "\n",
    "\n",
    "            wr = tf.multiply(wr, connectivity_mask)\n",
    "            \n",
    "            wr_norm2 = tf.sqrt(tf.reduce_sum(tf.square(wr)))\n",
    "\n",
    "            is_norm_0 = tf.cast(tf.equal(wr_norm2, 0), dtype)\n",
    "\n",
    "            wr = wr * wr2_scale / (wr_norm2 + 1 * is_norm_0)\n",
    "\n",
    "            return wr\n",
    "\n",
    "        self._win_initializer = win_init\n",
    "        self._bias_initializer = bias_init\n",
    "        self._wr_initializer = _wr_initializer\n",
    "\n",
    "    @property\n",
    "    def output_size(self):\n",
    "        return self._num_units\n",
    "\n",
    "    @property\n",
    "    def state_size(self):\n",
    "        return self._num_units\n",
    "\n",
    "    def __call__(self, inputs, state, scope=None):\n",
    "        \"\"\" Run one step of ESN Cell\n",
    "\n",
    "        Args:\n",
    "          inputs: `2-D Tensor` with shape `[batch_size x input_size]`.\n",
    "          state: `2-D Tensor` with shape `[batch_size x self.state_size]`.\n",
    "          scope: VariableScope for the created subgraph; defaults to class `ESNCell`.\n",
    "\n",
    "        Returns:\n",
    "          A tuple `(output, new_state)`, computed as\n",
    "          `output = new_state = (1 - leaky) * state + leaky * activation(Win * input + Wr * state + B)`.\n",
    "\n",
    "        Raises:\n",
    "          ValueError: if `inputs` or `state` tensor size mismatch the previously provided dimension.\n",
    "        \"\"\"\n",
    "\n",
    "        inputs = tf.convert_to_tensor(inputs)\n",
    "        input_size = inputs .get_shape().as_list()[1]\n",
    "        dtype = inputs.dtype\n",
    "\n",
    "        with tf.variable_scope(scope or type(self).__name__+self._uuid):  # \"ESNCell\"\n",
    "            win = tf.get_variable(\"InputMatrix\", [input_size, self._num_units], dtype=dtype,\n",
    "                            trainable=False, initializer=self._win_initializer)\n",
    "            wr = tf.get_variable(\"ReservoirMatrix\", [self._num_units, self._num_units], dtype=dtype,\n",
    "                           trainable=False, initializer=self._wr_initializer)\n",
    "            b = tf.get_variable(\"Bias\", [self._num_units], dtype=dtype, trainable=False, initializer=self._bias_initializer)\n",
    "        \n",
    "        in_mat = tf.concat([inputs, state],1)\n",
    "        weights_mat = tf.concat([win, wr],0)\n",
    "        output = (1 - self._leaky) * state + self._leaky * self._activation(tf.matmul(in_mat, weights_mat) + b)\n",
    "\n",
    "        return output, output"
   ]
  },
  {
   "cell_type": "code",
   "execution_count": 12,
   "metadata": {
    "scrolled": true
   },
   "outputs": [
    {
     "name": "stdout",
     "output_type": "stream",
     "text": [
      "Fetching data...\n"
     ]
    },
    {
     "data": {
      "text/plain": [
       "[<matplotlib.lines.Line2D at 0x7f9f8ce7d048>]"
      ]
     },
     "execution_count": 12,
     "metadata": {},
     "output_type": "execute_result"
    },
    {
     "data": {
      "image/png": "[encoded data removed]",
      "text/plain": [
       "<matplotlib.figure.Figure at 0x7f9f8e71f978>"
      ]
     },
     "metadata": {},
     "output_type": "display_data"
    }
   ],
   "source": [
    "tr_size=500\n",
    "washout_size=50\n",
    "units=100\n",
    "connectivity=0.1\n",
    "scale=0.7\n",
    "elements=10000\n",
    "\n",
    "\n",
    "logs_path = \"test\"\n",
    "\n",
    "print(\"Fetching data...\")\n",
    "data_str = requests.get('http://minds.jacobs-university.de/sites/default/files/uploads/mantas/code/MackeyGlass_t17.txt').content\n",
    "\n",
    "data = list(map(float, data_str.splitlines()[:elements]))\n",
    "data_t = tf.reshape(tf.constant(data), [1, elements, 1])\n",
    "esn = ESNCell(units, connectivity, scale)\n",
    "\n",
    "print(\"Building graph...\")\n",
    "outputs, final_state = tf.nn.dynamic_rnn(esn, data_t, dtype=tf.float32)\n",
    "washed = tf.squeeze(tf.slice(outputs, [0, washout_size, 0], [-1, -1, -1]))\n",
    "\n",
    "with tf.Session() as S:\n",
    "    writer = tf.summary.FileWriter(logs_path, graph=tf.get_default_graph())\n",
    "    S.run(tf.initialize_all_variables())\n",
    "\n",
    "    print(\"Computing embeddings...\")\n",
    "    res = S.run(washed)\n",
    "\n",
    "    print(\"Computing direct solution...\")\n",
    "    state = np.array(res)\n",
    "    tr_state = np.mat(state[:tr_size])\n",
    "    ts_state = np.mat(state[tr_size:])\n",
    "    wout = np.transpose(np.mat(data[washout_size+1:tr_size+washout_size+1]) * np.transpose(np.linalg.pinv(tr_state)))\n",
    "\n",
    "    print(\"Testing performance...\")\n",
    "    ts_out = np.mat((np.transpose(ts_state * wout).tolist())[0][:-1])\n",
    "    ts_y = np.mat(data[washout_size+tr_size+1:])\n",
    "\n",
    "    ts_mse = np.mean(np.square(ts_y - ts_out))\n",
    "    \n",
    "    writer.flush()\n",
    "    writer.close()\n",
    "print(\"Test MSE: \" + str(ts_mse))"
   ]
  },
  {
   "cell_type": "code",
   "execution_count": null,
   "metadata": {
    "collapsed": true
   },
   "outputs": [],
   "source": []
  }
 ],
 "metadata": {
  "anaconda-cloud": {},
  "kernelspec": {
   "display_name": "Python 3",
   "language": "python",
   "name": "python3"
  },
  "language_info": {
   "codemirror_mode": {
    "name": "ipython",
    "version": 3
   },
   "file_extension": ".py",
   "mimetype": "text/x-python",
   "name": "python",
   "nbconvert_exporter": "python",
   "pygments_lexer": "ipython3",
   "version": "3.6.1"
  }
 },
 "nbformat": 4,
 "nbformat_minor": 2
}
