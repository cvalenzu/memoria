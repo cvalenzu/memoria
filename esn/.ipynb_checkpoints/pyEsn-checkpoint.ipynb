{
 "cells": [
  {
   "cell_type": "code",
   "execution_count": 159,
   "metadata": {
    "collapsed": false
   },
   "outputs": [],
   "source": [
    "import sys\n",
    "sys.path.append(\"pyESN\")\n",
    "import numpy as np\n",
    "from matplotlib import pyplot as plt\n",
    "import pandas\n",
    "\n",
    "from pyESN import ESN\n",
    "import sklearn.metrics as sm\n",
    "from scipy.special import expit\n",
    "\n",
    "from sklearn import preprocessing\n",
    "\n",
    "\n",
    "from sklearn.grid_search import GridSearchCV\n",
    "from sklearn.base import BaseEstimator, RegressorMixin\n",
    "\n",
    "from sklearn.cross_validation import train_test_split\n",
    "\n",
    "%matplotlib inline"
   ]
  },
  {
   "cell_type": "code",
   "execution_count": 198,
   "metadata": {
    "collapsed": true
   },
   "outputs": [],
   "source": [
    "def getDataWindowed(data,inSize,outSize):\n",
    "    if outSize > inSize:\n",
    "        biggest = outSize\n",
    "    else:\n",
    "        biggest = inSize\n",
    "    \n",
    "    matrixIn = np.zeros((len(data)-biggest, inSize))\n",
    "    matrixOut = np.zeros((len(data)-biggest, outSize))\n",
    "    \n",
    "    for i in range(len(data)-2*biggest):\n",
    "        matrixIn[i,:] = data[i:i+inSize]\n",
    "        matrixOut[i,:] = data[i+inSize+1:i+inSize+outSize+1]\n",
    "    return matrixIn,matrixOut"
   ]
  },
  {
   "cell_type": "code",
   "execution_count": 208,
   "metadata": {
    "collapsed": true
   },
   "outputs": [],
   "source": [
    "def createFolds(dataSize, k):\n",
    "    vector = np.arange(dataSize)\n",
    "    splitted = np.array_split(vector,k+1)\n",
    "    \n",
    "    folds = []\n",
    "    \n",
    "    test_set = []\n",
    "    for i in range(k-1):\n",
    "        test_set = np.hstack((test_set, splitted[i]))\n",
    "        val_set = splitted[i+1]\n",
    "        folds.append((test_set.astype('int'),val_set.astype('int')))\n",
    "    return folds"
   ]
  },
  {
   "cell_type": "code",
   "execution_count": 264,
   "metadata": {
    "collapsed": false
   },
   "outputs": [],
   "source": [
    "class skESN(BaseEstimator):\n",
    "    def __init__(self, n_inputs=12,n_outputs=12,n_reservoir = 1000,\n",
    "                 spectral_radius = 1.5, sparsity=0.3, teacher_forcing= True):\n",
    "        self.n_inputs = n_inputs\n",
    "        self.n_outputs = n_outputs\n",
    "        self.n_reservoir = n_reservoir\n",
    "        self.spectral_radius = spectral_radius\n",
    "        self.sparsity = sparsity\n",
    "        self.teacher_forcing = teacher_forcing\n",
    "    \n",
    "    def get_params(self,deep=True):\n",
    "        return {'n_inputs': self.n_inputs, 'n_outputs': self.n_outputs, 'n_reservoir':self.n_reservoir,\n",
    "               'spectral_radius':self.spectral_radius, 'teacher_forcing':self.teacher_forcing}\n",
    "   \n",
    "    def fit(self,X,y):\n",
    "        print self.get_params()\n",
    "        self.esn = ESN(n_inputs = self.n_inputs,\n",
    "          n_outputs = self.n_outputs,\n",
    "          n_reservoir = self.n_reservoir,\n",
    "          random_state=42,\n",
    "          spectral_radius = self.spectral_radius,\n",
    "          sparsity= self.sparsity,\n",
    "          teacher_forcing= self.teacher_forcing,\n",
    "          silent= True)\n",
    "        self.esn.fit(X,y)\n",
    "        return self\n",
    "\n",
    "    def predict(self,X):\n",
    "        return self.esn.predict(X)\n",
    "    \n",
    "    def score(self,X,y):\n",
    "        y_pred = self.esn.predict(X)\n",
    "        score = sm.mean_squared_error(y_pred,y)\n",
    "        print \"Score: \" + str(score)\n",
    "        return score"
   ]
  },
  {
   "cell_type": "markdown",
   "metadata": {},
   "source": [
    "# Testing"
   ]
  },
  {
   "cell_type": "code",
   "execution_count": 256,
   "metadata": {
    "collapsed": true
   },
   "outputs": [],
   "source": [
    "b08 = pandas.read_csv('../data/b08c2.csv')\n",
    "b08_viento = b08[\"viento\"].as_matrix()\n",
    "\n",
    "prediction_steps = 12\n",
    "input_steps = 12"
   ]
  },
  {
   "cell_type": "code",
   "execution_count": 257,
   "metadata": {
    "collapsed": true
   },
   "outputs": [],
   "source": [
    "train_perc = 0.8\n",
    "\n",
    "datalen = len(b08_viento)\n",
    "trainlen = int(train_perc*(datalen))\n",
    "\n",
    "minmax = preprocessing.MinMaxScaler() \n",
    "standarization = preprocessing.StandardScaler()\n",
    "\n",
    "minmax.fit(b08_viento[:trainlen].reshape(-1,1))\n",
    "standarization.fit(b08_viento[:trainlen].reshape(-1,1))\n",
    "\n",
    "preproc = minmax\n",
    "\n",
    "data = preproc.transform(b08_viento.reshape(-1,1)).reshape((-1,))"
   ]
  },
  {
   "cell_type": "code",
   "execution_count": 258,
   "metadata": {
    "collapsed": true
   },
   "outputs": [],
   "source": [
    "X,y = getDataWindowed(data,input_steps,prediction_steps)"
   ]
  },
  {
   "cell_type": "code",
   "execution_count": 259,
   "metadata": {
    "collapsed": true
   },
   "outputs": [],
   "source": [
    "train_data,train_output = X[:trainlen],y[:trainlen]\n",
    "test_data, test_output  = X[trainlen:-prediction_steps],y[trainlen:-prediction_steps]"
   ]
  },
  {
   "cell_type": "code",
   "execution_count": 262,
   "metadata": {
    "collapsed": false
   },
   "outputs": [],
   "source": [
    "params = {'n_reservoir': [200],'spectral_radius':np.linspace(0,15,10)}"
   ]
  },
  {
   "cell_type": "code",
   "execution_count": 263,
   "metadata": {
    "collapsed": false
   },
   "outputs": [
    {
     "name": "stdout",
     "output_type": "stream",
     "text": [
      "Fitting 5 folds for each of 10 candidates, totalling 50 fits\n",
      "{'n_outputs': 12, 'teacher_forcing': True, 'spectral_radius': 0.0, 'n_inputs': 12, 'n_reservoir': 200}\n",
      "0.0133032086474\n",
      "{'n_outputs': 12, 'teacher_forcing': True, 'spectral_radius': 0.0, 'n_inputs': 12, 'n_reservoir': 200}\n",
      "0.0155236262124\n",
      "{'n_outputs': 12, 'teacher_forcing': True, 'spectral_radius': 0.0, 'n_inputs': 12, 'n_reservoir': 200}\n",
      "0.0240860067715\n",
      "{'n_outputs': 12, 'teacher_forcing': True, 'spectral_radius': 0.0, 'n_inputs': 12, 'n_reservoir': 200}\n",
      "0.0224030532013\n",
      "{'n_outputs': 12, 'teacher_forcing': True, 'spectral_radius': 0.0, 'n_inputs': 12, 'n_reservoir': 200}\n",
      "0.0147926867784\n",
      "{'n_outputs': 12, 'teacher_forcing': True, 'spectral_radius': 1.6666666666666667, 'n_inputs': 12, 'n_reservoir': 200}\n",
      "0.0208111178001\n",
      "{'n_outputs': 12, 'teacher_forcing': True, 'spectral_radius': 1.6666666666666667, 'n_inputs': 12, 'n_reservoir': 200}\n",
      "0.0184288584429\n",
      "{'n_outputs': 12, 'teacher_forcing': True, 'spectral_radius': 1.6666666666666667, 'n_inputs': 12, 'n_reservoir': 200}\n",
      "0.0243933233229\n",
      "{'n_outputs': 12, 'teacher_forcing': True, 'spectral_radius': 1.6666666666666667, 'n_inputs': 12, 'n_reservoir': 200}\n",
      "0.0251196316399\n",
      "{'n_outputs': 12, 'teacher_forcing': True, 'spectral_radius': 1.6666666666666667, 'n_inputs': 12, 'n_reservoir': 200}\n",
      "0.0178658825114\n",
      "{'n_outputs': 12, 'teacher_forcing': True, 'spectral_radius': 3.3333333333333335, 'n_inputs': 12, 'n_reservoir': 200}\n",
      "0.0308969203468\n",
      "{'n_outputs': 12, 'teacher_forcing': True, 'spectral_radius': 3.3333333333333335, 'n_inputs': 12, 'n_reservoir': 200}\n",
      "0.03095350897\n",
      "{'n_outputs': 12, 'teacher_forcing': True, 'spectral_radius': 3.3333333333333335, 'n_inputs': 12, 'n_reservoir': 200}\n",
      "0.0386775610747\n",
      "{'n_outputs': 12, 'teacher_forcing': True, 'spectral_radius': 3.3333333333333335, 'n_inputs': 12, 'n_reservoir': 200}\n",
      "0.0375523997017\n",
      "{'n_outputs': 12, 'teacher_forcing': True, 'spectral_radius': 3.3333333333333335, 'n_inputs': 12, 'n_reservoir': 200}\n",
      "0.0308362378977\n",
      "{'n_outputs': 12, 'teacher_forcing': True, 'spectral_radius': 5.0, 'n_inputs': 12, 'n_reservoir': 200}\n",
      "0.0331191509827\n",
      "{'n_outputs': 12, 'teacher_forcing': True, 'spectral_radius': 5.0, 'n_inputs': 12, 'n_reservoir': 200}\n",
      "0.033341270875\n",
      "{'n_outputs': 12, 'teacher_forcing': True, 'spectral_radius': 5.0, 'n_inputs': 12, 'n_reservoir': 200}\n",
      "0.0462746498613\n",
      "{'n_outputs': 12, 'teacher_forcing': True, 'spectral_radius': 5.0, 'n_inputs': 12, 'n_reservoir': 200}\n",
      "0.0407396067383\n",
      "{'n_outputs': 12, 'teacher_forcing': True, 'spectral_radius': 5.0, 'n_inputs': 12, 'n_reservoir': 200}\n",
      "0.0352012726102\n",
      "{'n_outputs': 12, 'teacher_forcing': True, 'spectral_radius': 6.666666666666667, 'n_inputs': 12, 'n_reservoir': 200}\n",
      "0.0329153649056\n",
      "{'n_outputs': 12, 'teacher_forcing': True, 'spectral_radius': 6.666666666666667, 'n_inputs': 12, 'n_reservoir': 200}\n",
      "0.0381840019428\n",
      "{'n_outputs': 12, 'teacher_forcing': True, 'spectral_radius': 6.666666666666667, 'n_inputs': 12, 'n_reservoir': 200}\n",
      "0.0521849480345\n",
      "{'n_outputs': 12, 'teacher_forcing': True, 'spectral_radius': 6.666666666666667, 'n_inputs': 12, 'n_reservoir': 200}\n",
      "0.0443845144215\n",
      "{'n_outputs': 12, 'teacher_forcing': True, 'spectral_radius': 6.666666666666667, 'n_inputs': 12, 'n_reservoir': 200}\n",
      "0.0367855560139\n",
      "{'n_outputs': 12, 'teacher_forcing': True, 'spectral_radius': 8.3333333333333339, 'n_inputs': 12, 'n_reservoir': 200}\n",
      "0.0338778518471\n",
      "{'n_outputs': 12, 'teacher_forcing': True, 'spectral_radius': 8.3333333333333339, 'n_inputs': 12, 'n_reservoir': 200}\n",
      "0.0360177718192\n",
      "{'n_outputs': 12, 'teacher_forcing': True, 'spectral_radius': 8.3333333333333339, 'n_inputs': 12, 'n_reservoir': 200}\n",
      "0.054061657\n",
      "{'n_outputs': 12, 'teacher_forcing': True, 'spectral_radius': 8.3333333333333339, 'n_inputs': 12, 'n_reservoir': 200}\n",
      "0.0466398775389\n",
      "{'n_outputs': 12, 'teacher_forcing': True, 'spectral_radius': 8.3333333333333339, 'n_inputs': 12, 'n_reservoir': 200}\n",
      "0.0366299068514\n",
      "{'n_outputs': 12, 'teacher_forcing': True, 'spectral_radius': 10.0, 'n_inputs': 12, 'n_reservoir': 200}\n",
      "0.0351606546854\n",
      "{'n_outputs': 12, 'teacher_forcing': True, 'spectral_radius': 10.0, 'n_inputs': 12, 'n_reservoir': 200}\n",
      "0.035454042031\n",
      "{'n_outputs': 12, 'teacher_forcing': True, 'spectral_radius': 10.0, 'n_inputs': 12, 'n_reservoir': 200}\n",
      "0.0539313332751\n",
      "{'n_outputs': 12, 'teacher_forcing': True, 'spectral_radius': 10.0, 'n_inputs': 12, 'n_reservoir': 200}\n",
      "0.0462672001522\n",
      "{'n_outputs': 12, 'teacher_forcing': True, 'spectral_radius': 10.0, 'n_inputs': 12, 'n_reservoir': 200}\n",
      "0.0369959458257\n",
      "{'n_outputs': 12, 'teacher_forcing': True, 'spectral_radius': 11.666666666666668, 'n_inputs': 12, 'n_reservoir': 200}\n",
      "0.0332736833614\n",
      "{'n_outputs': 12, 'teacher_forcing': True, 'spectral_radius': 11.666666666666668, 'n_inputs': 12, 'n_reservoir': 200}\n",
      "0.0367697700264\n",
      "{'n_outputs': 12, 'teacher_forcing': True, 'spectral_radius': 11.666666666666668, 'n_inputs': 12, 'n_reservoir': 200}\n",
      "0.0595697834295\n",
      "{'n_outputs': 12, 'teacher_forcing': True, 'spectral_radius': 11.666666666666668, 'n_inputs': 12, 'n_reservoir': 200}\n",
      "0.0477702993073\n",
      "{'n_outputs': 12, 'teacher_forcing': True, 'spectral_radius': 11.666666666666668, 'n_inputs': 12, 'n_reservoir': 200}\n",
      "0.0367373594903\n",
      "{'n_outputs': 12, 'teacher_forcing': True, 'spectral_radius': 13.333333333333334, 'n_inputs': 12, 'n_reservoir': 200}\n",
      "0.0330725749437\n",
      "{'n_outputs': 12, 'teacher_forcing': True, 'spectral_radius': 13.333333333333334, 'n_inputs': 12, 'n_reservoir': 200}\n",
      "0.034922468493\n",
      "{'n_outputs': 12, 'teacher_forcing': True, 'spectral_radius': 13.333333333333334, 'n_inputs': 12, 'n_reservoir': 200}\n",
      "0.0565743361866\n",
      "{'n_outputs': 12, 'teacher_forcing': True, 'spectral_radius': 13.333333333333334, 'n_inputs': 12, 'n_reservoir': 200}\n",
      "0.0481292876232\n",
      "{'n_outputs': 12, 'teacher_forcing': True, 'spectral_radius': 13.333333333333334, 'n_inputs': 12, 'n_reservoir': 200}\n",
      "0.0353623165775\n",
      "{'n_outputs': 12, 'teacher_forcing': True, 'spectral_radius': 15.0, 'n_inputs': 12, 'n_reservoir': 200}\n",
      "0.0328568164036\n",
      "{'n_outputs': 12, 'teacher_forcing': True, 'spectral_radius': 15.0, 'n_inputs': 12, 'n_reservoir': 200}\n",
      "0.0339145068616\n",
      "{'n_outputs': 12, 'teacher_forcing': True, 'spectral_radius': 15.0, 'n_inputs': 12, 'n_reservoir': 200}\n",
      "0.0579572273073\n",
      "{'n_outputs': 12, 'teacher_forcing': True, 'spectral_radius': 15.0, 'n_inputs': 12, 'n_reservoir': 200}\n",
      "0.0476242433781\n",
      "{'n_outputs': 12, 'teacher_forcing': True, 'spectral_radius': 15.0, 'n_inputs': 12, 'n_reservoir': 200}\n"
     ]
    },
    {
     "name": "stderr",
     "output_type": "stream",
     "text": [
      "[Parallel(n_jobs=1)]: Done  49 tasks       | elapsed:   23.5s\n"
     ]
    },
    {
     "name": "stdout",
     "output_type": "stream",
     "text": [
      "0.0345059094382\n",
      "{'n_outputs': 12, 'teacher_forcing': True, 'spectral_radius': 11.666666666666668, 'n_inputs': 12, 'n_reservoir': 200}\n"
     ]
    },
    {
     "name": "stderr",
     "output_type": "stream",
     "text": [
      "[Parallel(n_jobs=1)]: Done  50 out of  50 | elapsed:   23.9s finished\n"
     ]
    },
    {
     "data": {
      "text/plain": [
       "GridSearchCV(cv=5, error_score='raise',\n",
       "       estimator=skESN(n_inputs=12, n_outputs=12, n_reservoir=1000, spectral_radius=1.5,\n",
       "   teacher_forcing=True),\n",
       "       fit_params={}, iid=True, n_jobs=1,\n",
       "       param_grid={'spectral_radius': array([  0.     ,   1.66667,   3.33333,   5.     ,   6.66667,   8.33333,\n",
       "        10.     ,  11.66667,  13.33333,  15.     ]), 'n_reservoir': [200]},\n",
       "       pre_dispatch='2*n_jobs', refit=True, scoring=None, verbose=True)"
      ]
     },
     "execution_count": 263,
     "metadata": {},
     "output_type": "execute_result"
    }
   ],
   "source": [
    "#folds = createFolds(train_data.shape[0],5)\n",
    "clf = skESN()\n",
    "gs = GridSearchCV(clf, params, cv=5, verbose=True)\n",
    "gs.fit(train_data,train_output)"
   ]
  },
  {
   "cell_type": "code",
   "execution_count": null,
   "metadata": {
    "collapsed": true
   },
   "outputs": [],
   "source": []
  },
  {
   "cell_type": "code",
   "execution_count": null,
   "metadata": {
    "collapsed": true
   },
   "outputs": [],
   "source": []
  },
  {
   "cell_type": "code",
   "execution_count": null,
   "metadata": {
    "collapsed": true
   },
   "outputs": [],
   "source": []
  }
 ],
 "metadata": {
  "kernelspec": {
   "display_name": "Python [Root]",
   "language": "python",
   "name": "Python [Root]"
  },
  "language_info": {
   "codemirror_mode": {
    "name": "ipython",
    "version": 2
   },
   "file_extension": ".py",
   "mimetype": "text/x-python",
   "name": "python",
   "nbconvert_exporter": "python",
   "pygments_lexer": "ipython2",
   "version": "2.7.12"
  }
 },
 "nbformat": 4,
 "nbformat_minor": 0
}
