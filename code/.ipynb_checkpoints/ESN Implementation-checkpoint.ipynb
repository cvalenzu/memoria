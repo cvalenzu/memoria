{
 "cells": [
  {
   "cell_type": "code",
   "execution_count": 2,
   "metadata": {},
   "outputs": [
    {
     "name": "stderr",
     "output_type": "stream",
     "text": [
      "/home/tronco/anaconda3/lib/python3.6/site-packages/sklearn/cross_validation.py:44: DeprecationWarning: This module was deprecated in version 0.18 in favor of the model_selection module into which all the refactored classes and functions are moved. Also note that the interface of the new CV iterators are different from that of this module. This module will be removed in 0.20.\n",
      "  \"This module will be removed in 0.20.\", DeprecationWarning)\n",
      "/home/tronco/anaconda3/lib/python3.6/site-packages/sklearn/grid_search.py:43: DeprecationWarning: This module was deprecated in version 0.18 in favor of the model_selection module into which all the refactored classes and functions are moved. This module will be removed in 0.20.\n",
      "  DeprecationWarning)\n"
     ]
    }
   ],
   "source": [
    "import os\n",
    "import pandas as pd\n",
    "import numpy as np\n",
    "from numba import jit\n",
    "\n",
    "from sklearn import preprocessing\n",
    "from sklearn.grid_search import GridSearchCV\n",
    "from sklearn.base import BaseEstimator, RegressorMixin\n",
    "\n",
    "\n",
    "import matplotlib.pyplot as plt\n",
    "plt.rcParams['image.cmap'] = 'jet'\n",
    "%matplotlib inline"
   ]
  },
  {
   "cell_type": "code",
   "execution_count": 3,
   "metadata": {
    "collapsed": true,
    "scrolled": true
   },
   "outputs": [],
   "source": [
    "files = [\"informe_Lagunillas_20170728235145.xls\",  \"informe_Lota_Urbana_20170729002437.xls\",\n",
    "\"informe_Lota_Rural_20170728235710.xls\",  \"informe_Meteorologia_20170729002107.xls\"]\n",
    "names = [\"lagunillas\", \"lota_u\", \"lota_r\", \"meteo\"]\n",
    "\n",
    "for file,name in zip(files,names):\n",
    "    data = pd.read_html(\"../data/\"+file,header=0)[0]\n",
    "    d = data[\"Velocidad Viento\"]\n",
    "    datetime = pd.to_datetime(data[\"Fecha\"] + \" \" + data[\"Hora\"],format=\"%d-%m-%Y %H:%M\")\n",
    "    d.index = datetime\n",
    "    d.to_csv(\"../data/\"+name+\".csv\")"
   ]
  },
  {
   "cell_type": "code",
   "execution_count": 4,
   "metadata": {
    "collapsed": true
   },
   "outputs": [],
   "source": [
    "@jit\n",
    "def getDataWindowed(data,inSize,outSize):\n",
    "    biggest = np.max([inSize,outSize])\n",
    "    \n",
    "    matrixIn = np.zeros((len(data)-2*biggest, inSize))\n",
    "    matrixOut = np.zeros((len(data)-2*biggest, outSize))\n",
    "    for i in range(len(data)-2*biggest):\n",
    "        matrixIn[i,:] = data[i:i+inSize]\n",
    "        matrixOut[i,:] = data[i+inSize+1:i+inSize+outSize+1]\n",
    "    return matrixIn,matrixOut"
   ]
  },
  {
   "cell_type": "code",
   "execution_count": 5,
   "metadata": {
    "collapsed": true
   },
   "outputs": [],
   "source": [
    "def createFolds(dataSize, k):\n",
    "    vector = np.arange(dataSize)\n",
    "    splitted = np.array_split(vector,k+1)\n",
    "    \n",
    "    folds = []\n",
    "    \n",
    "    test_set = []\n",
    "    for i in range(k):\n",
    "        test_set = np.hstack((test_set, splitted[i]))\n",
    "        val_set = splitted[i+1]\n",
    "        folds.append((test_set.astype('int'),val_set.astype('int')))\n",
    "    return folds"
   ]
  },
  {
   "cell_type": "code",
   "execution_count": 6,
   "metadata": {
    "collapsed": true
   },
   "outputs": [],
   "source": [
    "data = pd.read_csv(\"../data/meteo.csv\",index_col=0,names=[\"datetime\",\"windspeed\"])[\"windspeed\"]"
   ]
  },
  {
   "cell_type": "code",
   "execution_count": 28,
   "metadata": {
    "collapsed": true
   },
   "outputs": [],
   "source": [
    "X,y = getDataWindowed(data, 12,5)"
   ]
  },
  {
   "cell_type": "code",
   "execution_count": 125,
   "metadata": {},
   "outputs": [],
   "source": [
    "class skESN(BaseEstimator):\n",
    "    def __init__(self, n_reservoir = 1000,\n",
    "                 spectral_radius = 1.5, sparsity=0.3, leaking_rate=0.3, regularization=1, teacher_forcing= True):\n",
    "        self.n_inputs = None\n",
    "        self.n_outputs = None\n",
    "        self.n_reservoir = n_reservoir\n",
    "        self.spectral_radius = spectral_radius\n",
    "        self.sparsity = sparsity\n",
    "        self.teacher_forcing = teacher_forcing\n",
    "        self.leaking_rate = leaking_rate\n",
    "        self.regularization = regularization\n",
    "        self.last_state = None\n",
    "        self.activation = np.tanh\n",
    "        \n",
    "        \n",
    "    def get_params(self,deep=True):\n",
    "        params =  {'n_reservoir':self.n_reservoir,'spectral_radius':self.spectral_radius, \n",
    "                   'teacher_forcing':self.teacher_forcing, 'sparsity':self.sparsity,\n",
    "                  'leaking_rate': self.leaking_rate, \"regularization\":self.regularization}\n",
    "        if self.n_inputs and self.n_outputs:\n",
    "            params[\"n_inputs\"] = self.n_inputs\n",
    "            params[\"n_outputs\"] = self.n_outputs\n",
    "        return params\n",
    "    def fit(self,X,y):\n",
    "        in_rows,self.n_inputs = X.shape\n",
    "        out_rows, self.n_outputs = y.shape\n",
    "        initLen = int(0.01*in_rows)\n",
    "        \n",
    "        #Raise exception\n",
    "        assert(in_rows == out_rows)\n",
    "        \n",
    "        #Input length\n",
    "        N = in_rows\n",
    "        \n",
    "        self.Win = (np.random.rand(self.n_reservoir,1+self.n_inputs)-0.5) * 1\n",
    "        self.W = np.random.rand(self.n_reservoir,self.n_reservoir)-0.5\n",
    "        self.W *= self.spectral_radius\n",
    "        \n",
    "        X_states = np.zeros((1+self.n_inputs+self.n_reservoir,N-initLen))\n",
    "\n",
    "        self.last_state  = np.zeros(self.n_reservoir)\n",
    "        \n",
    "        for t in range(N):\n",
    "            u = X[t]\n",
    "            self.last_state = (1-self.leaking_rate)*self.last_state  + self.leaking_rate*np.tanh( np.dot( self.Win, np.hstack((1,u)) ) \\\n",
    "                                                                    + np.dot( self.W, self.last_state  ) )\n",
    "            if t >= initLen:\n",
    "                X_states[:,t-initLen] = np.hstack((1,u,self.last_state ))\n",
    "                \n",
    "\n",
    "        Y_T = y[initLen:].T\n",
    "#         self.Wout =np.linalg.lstsq(X,y)[0]\n",
    "\n",
    "        X_sqrd = np.dot(X_states,X_states.T)+  self.regularization*np.eye(1+self.n_inputs+self.n_reservoir) \n",
    "        Y_sqrd = np.dot(Y_T,X_states.T).T\n",
    "\n",
    "        self.Wout=np.linalg.solve(X_sqrd,Y_sqrd)\n",
    "        \n",
    "        return self\n",
    "\n",
    "    def predict(self,X):\n",
    "        Y = np.empty((self.n_outputs,self.len(X)))\n",
    "        \n",
    "        for t in len(X):\n",
    "                self.last_state = (1 - self.leaking_rate) * self.last_state + self.leaking_rate*np.tanh\n",
    "        return \n",
    "    \n",
    "    def score(self,X,y):\n",
    "        return"
   ]
  },
  {
   "cell_type": "code",
   "execution_count": 126,
   "metadata": {},
   "outputs": [
    {
     "data": {
      "text/plain": [
       "skESN(leaking_rate=0.3, n_inputs=12, n_outputs=5, n_reservoir=1000,\n",
       "   regularization=1, sparsity=0.3, spectral_radius=1.5,\n",
       "   teacher_forcing=True)"
      ]
     },
     "execution_count": 126,
     "metadata": {},
     "output_type": "execute_result"
    }
   ],
   "source": [
    "t = skESN()\n",
    "t.fit(X[:500],y[:500])\n"
   ]
  },
  {
   "cell_type": "code",
   "execution_count": 127,
   "metadata": {
    "collapsed": true
   },
   "outputs": [],
   "source": [
    "reg = 1e-8  # regularization coefficient"
   ]
  },
  {
   "cell_type": "code",
   "execution_count": null,
   "metadata": {
    "collapsed": true
   },
   "outputs": [],
   "source": []
  }
 ],
 "metadata": {
  "kernelspec": {
   "display_name": "Python 3",
   "language": "python",
   "name": "python3"
  },
  "language_info": {
   "codemirror_mode": {
    "name": "ipython",
    "version": 3
   },
   "file_extension": ".py",
   "mimetype": "text/x-python",
   "name": "python",
   "nbconvert_exporter": "python",
   "pygments_lexer": "ipython3",
   "version": "3.6.1"
  }
 },
 "nbformat": 4,
 "nbformat_minor": 2
}
