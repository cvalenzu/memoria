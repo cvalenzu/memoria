{
 "cells": [
  {
   "cell_type": "code",
   "execution_count": 1,
   "metadata": {},
   "outputs": [],
   "source": [
    "data <- read.csv(\"../../data/lota_r_filtered.csv\")\n",
    "data_len <- length(data[,2])\n",
    "train_len <- as.integer(0.8*data_len)\n",
    "\n",
    "train <- data[1:train_len,2]\n",
    "test_len <- data_len - train_len\n",
    "test <- data[train_len+1:test_len,2]"
   ]
  },
  {
   "cell_type": "code",
   "execution_count": 2,
   "metadata": {},
   "outputs": [],
   "source": [
    "model <- arima(train, order = c(3,1,3))"
   ]
  },
  {
   "cell_type": "code",
   "execution_count": 3,
   "metadata": {},
   "outputs": [
    {
     "name": "stdout",
     "output_type": "stream",
     "text": [
      "[1] \"Training  1\"\n",
      "[1] \"Training  2\"\n",
      "[1] \"Training  3\"\n",
      "[1] \"Training  4\"\n",
      "[1] \"Training  5\"\n",
      "[1] \"Training  6\"\n",
      "[1] \"Training  7\"\n",
      "[1] \"Training  8\"\n",
      "[1] \"Training  9\"\n",
      "[1] \"Training  10\"\n"
     ]
    }
   ],
   "source": [
    "data <- train\n",
    "params <- c(3,1,3)\n",
    "y_test  <- c()\n",
    "y_approx <- c()\n",
    "for(i in 1:(test_len-12)){\n",
    "    print(paste(\"Training \",i))\n",
    "    model <-arima(data, order = params)\n",
    "    p <- predict(model,n.ahead = 12)\n",
    "    \n",
    "    y_approx <- rbind(y_approx, p$pred)\n",
    "    y_test <- rbind(y_test,test[seq(i+1,i+12)])\n",
    "    data <- c(data,test[i])\n",
    "    if(i == 10){\n",
    "        break\n",
    "    }\n",
    "}"
   ]
  },
  {
   "cell_type": "code",
   "execution_count": 11,
   "metadata": {},
   "outputs": [],
   "source": [
    "write.csv(y_test,\"y_test.csv\", row.names= FALSE)\n",
    "write.csv(y_approx,\"y_approx.csv\", row.names=F)"
   ]
  },
  {
   "cell_type": "code",
   "execution_count": null,
   "metadata": {
    "collapsed": true
   },
   "outputs": [],
   "source": []
  }
 ],
 "metadata": {
  "kernelspec": {
   "display_name": "R",
   "language": "R",
   "name": "ir"
  },
  "language_info": {
   "codemirror_mode": "r",
   "file_extension": ".r",
   "mimetype": "text/x-r-source",
   "name": "R",
   "pygments_lexer": "r",
   "version": "3.4.1"
  },
  "toc": {
   "colors": {
    "hover_highlight": "#DAA520",
    "navigate_num": "#000000",
    "navigate_text": "#333333",
    "running_highlight": "#FF0000",
    "selected_highlight": "#FFD700",
    "sidebar_border": "#EEEEEE",
    "wrapper_background": "#FFFFFF"
   },
   "moveMenuLeft": true,
   "nav_menu": {
    "height": "30px",
    "width": "252px"
   },
   "navigate_menu": true,
   "number_sections": true,
   "sideBar": true,
   "threshold": 4,
   "toc_cell": false,
   "toc_section_display": "block",
   "toc_window_display": false,
   "widenNotebook": false
  }
 },
 "nbformat": 4,
 "nbformat_minor": 2
}
