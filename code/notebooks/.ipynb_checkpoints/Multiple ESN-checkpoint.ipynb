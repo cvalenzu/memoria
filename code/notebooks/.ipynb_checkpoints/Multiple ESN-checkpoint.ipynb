{
 "cells": [
  {
   "cell_type": "code",
   "execution_count": 176,
   "metadata": {
    "collapsed": true
   },
   "outputs": [],
   "source": [
    "import sys\n",
    "sys.path.append('../libs')\n",
    "from esnlib import *\n",
    "from helpers import *\n",
    "import pandas as pd\n",
    "import sklearn.metrics as metrics\n",
    "\n",
    "import json\n",
    "\n",
    "from sklearn import preprocessing\n",
    "import sklearn.model_selection as ms"
   ]
  },
  {
   "cell_type": "code",
   "execution_count": 177,
   "metadata": {
    "collapsed": true
   },
   "outputs": [],
   "source": [
    "#Loading data\n",
    "data = pd.Series.from_csv('../../data/potency/canela1.csv')\n",
    "\n",
    "#Data split parameters\n",
    "input_steps = 1\n",
    "prediction_steps = 1\n",
    "train_perc = 0.8\n",
    "\n",
    "#Creating Time Series Validation Folds \n",
    "n_splits = 5\n",
    "tscv = ms.TimeSeriesSplit(n_splits=n_splits)\n",
    "\n",
    "X,y = getDataWindowed(data,input_steps,prediction_steps)\n",
    "\n",
    "trainlen = int(train_perc*len(X))\n",
    "X_train,X_test = X[:trainlen], X[trainlen:]\n",
    "y_train,y_test = y[:trainlen], y[trainlen:]"
   ]
  },
  {
   "cell_type": "code",
   "execution_count": 178,
   "metadata": {
    "collapsed": true
   },
   "outputs": [],
   "source": [
    "minmax_in = preprocessing.MinMaxScaler(feature_range=(0,1)) \n",
    "standarization_in = preprocessing.StandardScaler()\n",
    "minmax_out = preprocessing.MinMaxScaler(feature_range=(0,1)) \n",
    "standarization_out = preprocessing.StandardScaler()\n",
    "\n",
    "minmax_in.fit(X_train)\n",
    "minmax_out.fit(y_train)\n",
    "standarization_in.fit(X_train)\n",
    "standarization_out.fit(X_train)\n",
    "preproc_in = minmax_in\n",
    "preproc_out = minmax_out"
   ]
  },
  {
   "cell_type": "code",
   "execution_count": 179,
   "metadata": {
    "collapsed": true
   },
   "outputs": [],
   "source": [
    "X_train = preproc_in.transform(X_train) if preproc_in else X_train\n",
    "X_test = preproc_in.transform(X_test) if preproc_in else X_test\n",
    "\n",
    "y_train = preproc_out.transform(y_train) if preproc_out else y_train"
   ]
  },
  {
   "cell_type": "code",
   "execution_count": 188,
   "metadata": {
    "collapsed": true
   },
   "outputs": [],
   "source": [
    "def mape_score(y_test,y_pred):\n",
    "    error = np.abs((y_test - y_pred)/np.mean(y_test))\n",
    "    return np.average(error)\n",
    "\n",
    "def nmse(y_test,y_pred):\n",
    "    error = (y_test-y_pred)**2 / (np.mean(y_test)* np.mean(y_pred))\n",
    "    return np.average(error)\n",
    "\n",
    "def scorer(estimator, X,y):\n",
    "    y_pred = estimator.predict(X,cont=True)\n",
    "    return mape_score(y,y_pred)\n",
    "\n",
    "def relu(x):\n",
    "    return x * (x > 0)\n",
    "\n",
    "\n",
    "#PARAMS\n",
    "n_reservoir = 100\n",
    "sparsity = np.linspace(0.5,0.9,3)\n",
    "leaking_rate = np.linspace(0.3,0.9,3)\n",
    "regularization=1e-8\n",
    "param_grid = {\"n_reservoir\":[n_reservoir], \"sparsity\":sparsity, \"leaking_rate\":leaking_rate, \"regularization\":[regularization]}\n",
    "params = ms.ParameterGrid(param_grid)\n",
    "\n",
    "with open('params.json', 'w') as fout:\n",
    "    json.dump(list(params), fout)"
   ]
  },
  {
   "cell_type": "code",
   "execution_count": 181,
   "metadata": {},
   "outputs": [],
   "source": [
    "for i,param in enumerate(params):\n",
    "    clf = ESN(random_state=42, **param)\n",
    "    score = ms.cross_val_score(clf,X_train,y_train, cv = tscv, n_jobs=-1,scoring=scorer)\n",
    "    with open(\"process_index.csv\",\"a+\") as process_index:\n",
    "        process_index.write(\"{}\\n\".format(i))\n",
    "        with open(\"scores.csv\", \"a+\") as scores_file:\n",
    "            scores_file.write('{},'.format(i)+','.join([str(num) for num in score]) + \"\\n\")\n",
    "            scores_file.close()\n",
    "        process_index.close()"
   ]
  },
  {
   "cell_type": "code",
   "execution_count": 182,
   "metadata": {
    "collapsed": true
   },
   "outputs": [],
   "source": []
  },
  {
   "cell_type": "code",
   "execution_count": null,
   "metadata": {
    "collapsed": true
   },
   "outputs": [],
   "source": []
  }
 ],
 "metadata": {
  "kernelspec": {
   "display_name": "Python 3",
   "language": "python",
   "name": "python3"
  },
  "language_info": {
   "codemirror_mode": {
    "name": "ipython",
    "version": 3
   },
   "file_extension": ".py",
   "mimetype": "text/x-python",
   "name": "python",
   "nbconvert_exporter": "python",
   "pygments_lexer": "ipython3",
   "version": "3.6.2"
  },
  "toc": {
   "colors": {
    "hover_highlight": "#DAA520",
    "navigate_num": "#000000",
    "navigate_text": "#333333",
    "running_highlight": "#FF0000",
    "selected_highlight": "#FFD700",
    "sidebar_border": "#EEEEEE",
    "wrapper_background": "#FFFFFF"
   },
   "moveMenuLeft": true,
   "nav_menu": {
    "height": "12px",
    "width": "252px"
   },
   "navigate_menu": true,
   "number_sections": true,
   "sideBar": true,
   "threshold": 4,
   "toc_cell": false,
   "toc_section_display": "block",
   "toc_window_display": false,
   "widenNotebook": false
  }
 },
 "nbformat": 4,
 "nbformat_minor": 2
}
