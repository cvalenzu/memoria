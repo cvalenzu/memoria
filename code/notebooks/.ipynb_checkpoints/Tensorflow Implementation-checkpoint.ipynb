{
 "cells": [
  {
   "cell_type": "code",
   "execution_count": 10,
   "metadata": {},
   "outputs": [],
   "source": [
    "import sys\n",
    "sys.path.append('../libs')\n",
    "\n",
    "from esnlib import *\n",
    "import pandas as pd\n",
    "\n",
    "import tensorflow as tf\n",
    "\n",
    "from sklearn import preprocessing\n",
    "import sklearn.metrics as metrics\n",
    "\n",
    "import sklearn.model_selection as ms\n",
    "import matplotlib.pyplot as plt\n",
    "%matplotlib inline"
   ]
  },
  {
   "cell_type": "code",
   "execution_count": 34,
   "metadata": {
    "collapsed": true
   },
   "outputs": [],
   "source": [
    "class tfESN():\n",
    "    def __init__(self, n_reservoir = 1000, spectral_radius = 0.135, sparsity=0,\n",
    "                 leaking_rate=0.3, regularization=1, random_state = None, activation = np.tanh):\n",
    "        self.n_inputs = None\n",
    "        self.n_outputs = None\n",
    "        self.n_reservoir = n_reservoir\n",
    "        self.spectral_radius = spectral_radius\n",
    "        self.sparsity = sparsity\n",
    "        self.leaking_rate = leaking_rate\n",
    "        self.regularization = regularization\n",
    "        self.last_state = None\n",
    "        self.activation = activation\n",
    "        if random_state:\n",
    "            if type(random_state) is int:\n",
    "                self.random_state=np.random.RandomState(random_state)\n",
    "            elif type(random_state) is np.random.RandomState:\n",
    "                self.random_state = random_state\n",
    "        else:\n",
    "            self.random_state = np.random.RandomState()\n",
    "\n",
    "#     def get_params(self,deep=True):\n",
    "#         params =  {'n_reservoir':self.n_reservoir,'spectral_radius':self.spectral_radius,  'sparsity':self.sparsity,\n",
    "#                   'leaking_rate': self.leaking_rate, \"regularization\":self.regularization, \"activation\": self.activation}\n",
    "#         if self.n_inputs and self.n_outputs:\n",
    "#             params[\"n_inputs\"] = self.n_inputs\n",
    "#             params[\"n_outputs\"] = self.n_outputs\n",
    "#         if self.random_state:\n",
    "#             params[\"random_state\"] = self.random_state\n",
    "#         return params\n",
    "\n",
    "    def fit(self,X,y):\n",
    "\n",
    "        in_rows,self.n_inputs = X.get_shape().as_list()\n",
    "        if len(y.get_shape().as_list()) > 1:\n",
    "            out_rows, self.n_outputs = y.get_shape().as_list()\n",
    "        else:\n",
    "            out_rows = len(y)\n",
    "            self.n_outputs = 1\n",
    "        initLen = int(0.01*float(in_rows))\n",
    "\n",
    "        print(in_rows, out_rows)\n",
    "#         #Raise exception\n",
    "#         assert(in_rows == out_rows)\n",
    "\n",
    "#         #Input length\n",
    "#         N = in_rows\n",
    "\n",
    "#         #Creating input weights\n",
    "#         self.Win = (self.random_state.rand(self.n_reservoir,1+self.n_inputs)-0.5) * 1\n",
    "\n",
    "#         #Creating Reservoir weights\n",
    "#         self.W = self.random_state.rand(self.n_reservoir,self.n_reservoir)-0.5\n",
    "#         #Sparsity\n",
    "#         self.W[self.random_state.rand(*self.W.shape) < self.sparsity] = 0\n",
    "#         #Spectral radius\n",
    "#         self.W *= self.spectral_radius\n",
    "\n",
    "#         #Creating state matrix\n",
    "#         X_states = np.zeros((1+self.n_inputs+self.n_reservoir,N-initLen))\n",
    "\n",
    "#         #Last state\n",
    "#         self.last_state  = np.zeros(self.n_reservoir)\n",
    "\n",
    "#         #Collecting states\n",
    "#         for t in range(N):\n",
    "#             u = X[t]\n",
    "\n",
    "#             #Calculating new state\n",
    "#             self.last_state = (1-self.leaking_rate)*self.last_state  + self.leaking_rate*self.activation( np.dot( self.Win, np.hstack((1,u)) ) \\\n",
    "#                                                                     + np.dot( self.W, self.last_state  ) )\n",
    "#             if t >= initLen:\n",
    "#                 X_states[:,t-initLen] = np.hstack((1,u,self.last_state ))\n",
    "\n",
    "\n",
    "#         Y_T = y[initLen:].T\n",
    "\n",
    "#         X_sqrd = np.dot(X_states,X_states.T)+  self.regularization*np.eye(1+self.n_inputs+self.n_reservoir)\n",
    "#         Y_sqrd = np.dot(Y_T,X_states.T)\n",
    "\n",
    "#         #Getting the output weights using least squares\n",
    "#         self.Wout=np.dot(Y_sqrd, np.linalg.inv(X_sqrd))\n",
    "\n",
    "#         return self\n",
    "\n",
    "#     def predict(self,X, cont=False):\n",
    "#         Y = np.empty((len(X),self.n_outputs))\n",
    "#         if not cont:\n",
    "#             last_state = np.zeros_like(self.last_state)\n",
    "#         else:\n",
    "#             last_state = self.last_state\n",
    "#         for t,u in enumerate(X):\n",
    "#                 last_state = (1 - self.leaking_rate) * last_state + self.leaking_rate*self.activation( np.dot( self.Win, np.hstack((1,u)))+ \\\n",
    "#                                                                      + np.dot( self.W, last_state  ) )\n",
    "#                 y = np.dot(self.Wout, np.hstack((1,u,last_state)))\n",
    "#                 Y[t,:] = y\n",
    "\n",
    "#         if cont:\n",
    "#             self.last_state = last_state\n",
    "#         return Y"
   ]
  },
  {
   "cell_type": "code",
   "execution_count": 35,
   "metadata": {
    "collapsed": true
   },
   "outputs": [],
   "source": [
    "data = pd.Series.from_csv('../../data/meteo.csv')[:1000]\n",
    "\n",
    "prediction_steps = 1\n",
    "input_steps = 12\n",
    "train_perc = 0.8\n",
    "\n",
    "X,y = getDataWindowed(data,input_steps,prediction_steps)\n",
    "\n",
    "trainlen = int(train_perc*len(X))\n",
    "X_train,X_test = X[:trainlen], X[trainlen:]\n",
    "y_train,y_test = y[:trainlen], y[trainlen:]"
   ]
  },
  {
   "cell_type": "code",
   "execution_count": 36,
   "metadata": {},
   "outputs": [],
   "source": [
    "sess=tf.InteractiveSession()"
   ]
  },
  {
   "cell_type": "code",
   "execution_count": 37,
   "metadata": {
    "collapsed": true
   },
   "outputs": [],
   "source": [
    "esn = tfESN()"
   ]
  },
  {
   "cell_type": "code",
   "execution_count": 38,
   "metadata": {},
   "outputs": [],
   "source": [
    "X_train = tf.convert_to_tensor(X_train)\n",
    "X_test = tf.convert_to_tensor(X_test)\n",
    "y_train = tf.convert_to_tensor(y_train)\n",
    "y_test = tf.convert_to_tensor(y_test)"
   ]
  },
  {
   "cell_type": "code",
   "execution_count": 39,
   "metadata": {},
   "outputs": [
    {
     "ename": "TypeError",
     "evalue": "float() argument must be a string or a number, not 'Dimension'",
     "output_type": "error",
     "traceback": [
      "\u001b[0;31m---------------------------------------------------------------------------\u001b[0m",
      "\u001b[0;31mTypeError\u001b[0m                                 Traceback (most recent call last)",
      "\u001b[0;32m<ipython-input-39-2210a5dca8f8>\u001b[0m in \u001b[0;36m<module>\u001b[0;34m()\u001b[0m\n\u001b[0;32m----> 1\u001b[0;31m \u001b[0mesn\u001b[0m\u001b[0;34m.\u001b[0m\u001b[0mfit\u001b[0m\u001b[0;34m(\u001b[0m\u001b[0mX_train\u001b[0m\u001b[0;34m,\u001b[0m\u001b[0my_train\u001b[0m\u001b[0;34m)\u001b[0m\u001b[0;34m\u001b[0m\u001b[0m\n\u001b[0m",
      "\u001b[0;32m<ipython-input-34-82707edeee31>\u001b[0m in \u001b[0;36mfit\u001b[0;34m(self, X, y)\u001b[0m\n\u001b[1;32m     37\u001b[0m             \u001b[0mout_rows\u001b[0m \u001b[0;34m=\u001b[0m \u001b[0mlen\u001b[0m\u001b[0;34m(\u001b[0m\u001b[0my\u001b[0m\u001b[0;34m)\u001b[0m\u001b[0;34m\u001b[0m\u001b[0m\n\u001b[1;32m     38\u001b[0m             \u001b[0mself\u001b[0m\u001b[0;34m.\u001b[0m\u001b[0mn_outputs\u001b[0m \u001b[0;34m=\u001b[0m \u001b[0;36m1\u001b[0m\u001b[0;34m\u001b[0m\u001b[0m\n\u001b[0;32m---> 39\u001b[0;31m         \u001b[0minitLen\u001b[0m \u001b[0;34m=\u001b[0m \u001b[0mint\u001b[0m\u001b[0;34m(\u001b[0m\u001b[0;36m0.01\u001b[0m\u001b[0;34m*\u001b[0m\u001b[0mfloat\u001b[0m\u001b[0;34m(\u001b[0m\u001b[0min_rows\u001b[0m\u001b[0;34m)\u001b[0m\u001b[0;34m)\u001b[0m\u001b[0;34m\u001b[0m\u001b[0m\n\u001b[0m\u001b[1;32m     40\u001b[0m \u001b[0;34m\u001b[0m\u001b[0m\n\u001b[1;32m     41\u001b[0m         \u001b[0mprint\u001b[0m\u001b[0;34m(\u001b[0m\u001b[0min_rows\u001b[0m\u001b[0;34m,\u001b[0m \u001b[0mout_rows\u001b[0m\u001b[0;34m)\u001b[0m\u001b[0;34m\u001b[0m\u001b[0m\n",
      "\u001b[0;31mTypeError\u001b[0m: float() argument must be a string or a number, not 'Dimension'"
     ]
    }
   ],
   "source": [
    "esn.fit(X_train,y_train)"
   ]
  },
  {
   "cell_type": "code",
   "execution_count": null,
   "metadata": {
    "collapsed": true
   },
   "outputs": [],
   "source": []
  },
  {
   "cell_type": "code",
   "execution_count": null,
   "metadata": {
    "collapsed": true
   },
   "outputs": [],
   "source": []
  }
 ],
 "metadata": {
  "kernelspec": {
   "display_name": "Python 3",
   "language": "python",
   "name": "python3"
  },
  "language_info": {
   "codemirror_mode": {
    "name": "ipython",
    "version": 3
   },
   "file_extension": ".py",
   "mimetype": "text/x-python",
   "name": "python",
   "nbconvert_exporter": "python",
   "pygments_lexer": "ipython3",
   "version": "3.6.1"
  }
 },
 "nbformat": 4,
 "nbformat_minor": 2
}
