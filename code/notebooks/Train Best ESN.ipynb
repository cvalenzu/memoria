{
 "cells": [
  {
   "cell_type": "code",
   "execution_count": 1,
   "metadata": {
    "collapsed": true
   },
   "outputs": [],
   "source": [
    "import pandas as pd\n",
    "import sys\n",
    "from sklearn import preprocessing\n",
    "\n",
    "sys.path.append(\"../libs\")\n",
    "from esnlib import *\n",
    "from helpers import *\n",
    "\n",
    "import os"
   ]
  },
  {
   "cell_type": "markdown",
   "metadata": {},
   "source": [
    "# One out"
   ]
  },
  {
   "cell_type": "markdown",
   "metadata": {},
   "source": [
    "# Canela"
   ]
  },
  {
   "cell_type": "code",
   "execution_count": 2,
   "metadata": {
    "collapsed": true
   },
   "outputs": [],
   "source": [
    "canela_path = \"../../data/processed/x_potency_canela1_merged.csv\""
   ]
  },
  {
   "cell_type": "code",
   "execution_count": 3,
   "metadata": {},
   "outputs": [
    {
     "name": "stdout",
     "output_type": "stream",
     "text": [
      "Reading Data\n",
      "Training ESN\n",
      "Predicting Train\n",
      "Predicting Test\n",
      "Reading Data\n",
      "Training ESN\n",
      "Predicting Train\n",
      "Predicting Test\n",
      "Reading Data\n",
      "Training ESN\n",
      "Predicting Train\n",
      "Predicting Test\n",
      "Reading Data\n",
      "Training ESN\n",
      "Predicting Train\n",
      "Predicting Test\n"
     ]
    }
   ],
   "source": [
    "train_perc = 0.8\n",
    "preprocess = \"minmax\"\n",
    "\n",
    "best_params = pd.read_csv(\"../../results/best_esn/canela1_one_esn.csv\", index_col=0)\n",
    "best_params[\"n_reservoir\"] = best_params[\"n_reservoir\"].astype(\"int64\")\n",
    "best_params[\"lags\"] = best_params[\"lags\"].astype(\"int64\")\n",
    "\n",
    "for i,param in best_params.iterrows():\n",
    "    print(\"Reading Data\")\n",
    "    #Data split parameters\n",
    "\n",
    "    filename = os.path.basename(canela_path).split(\"_\")[2]\n",
    "    X = pd.read_csv(canela_path,index_col=0).values[:,:int(param.lags)]\n",
    "    y = pd.read_csv(canela_path.replace(\"x_potency\", \"y\"), index_col=0).values[:,0].reshape(-1,1)\n",
    "    y_multi = pd.read_csv(canela_path.replace(\"x_potency\", \"y\"), index_col=0).values\n",
    "    trainlen = int(train_perc*len(X))\n",
    "    X_train,X_test = X[:trainlen], X[trainlen:]\n",
    "    y_train,y_test = y[:trainlen], y[trainlen:]\n",
    "    y_train_multi, y_test_multi =y_multi[:trainlen], y_multi[trainlen:]\n",
    "    y_train_orig  = y_train\n",
    "    \n",
    "    \n",
    "    if preprocess == \"minmax\":\n",
    "        minmax_in = preprocessing.MinMaxScaler(feature_range=(0,1))\n",
    "        minmax_out = preprocessing.MinMaxScaler(feature_range=(0,1))\n",
    "\n",
    "        minmax_in.fit(X_train)\n",
    "        minmax_out.fit(y_train)\n",
    "\n",
    "        preproc_in = minmax_in\n",
    "        preproc_out = minmax_out\n",
    "\n",
    "    else:\n",
    "        standarization_in = preprocessing.StandardScaler()\n",
    "        standarization_out = preprocessing.StandardScaler()\n",
    "\n",
    "        standarization_in.fit(X_train)\n",
    "        standarization_out.fit(y_train)\n",
    "\n",
    "        preproc_in = standarization_in\n",
    "        preproc_out = standarization_out\n",
    "\n",
    "    X_train = preproc_in.transform(X_train) if preproc_in else X_train\n",
    "    X_test = preproc_in.transform(X_test) if preproc_in else X_test\n",
    "    y_train = preproc_out.transform(y_train) if preproc_out else y_train\n",
    "\n",
    "    param = param.drop(\"scores\")\n",
    "    lags = int(param.lags)\n",
    "    param = param.drop(\"lags\")\n",
    "    n_reservoir = param.n_reservoir\n",
    "    param = param.drop(\"n_reservoir\")\n",
    "    print(\"Training ESN\")\n",
    "    clf = ESN(random_state=42, **param)\n",
    "    clf.fit(X_train,y_train)\n",
    "    print(\"Predicting Train\")\n",
    "    y_pred_train = clf.n_predict(X_train)\n",
    "    for i in range(12):\n",
    "         y_pred_train[:,i] = preproc_out.inverse_transform(y_pred_train[:,i].reshape(-1,1)).reshape((-1))\n",
    "    \n",
    "    print(\"Predicting Test\")\n",
    "    y_pred_test = clf.n_predict(X_test,cont=True)\n",
    "    for i in range(12):\n",
    "         y_pred_test[:,i] = preproc_out.inverse_transform(y_pred_test[:,i].reshape(-1,1)).reshape((-1))\n",
    "            \n",
    "    pd.DataFrame(y_pred_train).to_csv(\"canela1_y_pred_train_one_{}lags.csv\".format(lags))\n",
    "    pd.DataFrame(y_pred_test).to_csv(\"canela1_y_pred_test_one_{}lags.csv\".format(lags))\n",
    "    pd.DataFrame(y_train_multi).to_csv(\"canela1_y_train_one_{}lags.csv\".format(lags))\n",
    "    pd.DataFrame(y_test_multi).to_csv(\"canela1_y_test_one_{}lags.csv\".format(lags))"
   ]
  },
  {
   "cell_type": "markdown",
   "metadata": {},
   "source": [
    "# Totoral"
   ]
  },
  {
   "cell_type": "code",
   "execution_count": 4,
   "metadata": {},
   "outputs": [
    {
     "name": "stdout",
     "output_type": "stream",
     "text": [
      "Reading Data\n",
      "Training ESN\n",
      "Predicting Train\n",
      "Predicting Test\n",
      "Reading Data\n",
      "Training ESN\n",
      "Predicting Train\n",
      "Predicting Test\n",
      "Reading Data\n",
      "Training ESN\n",
      "Predicting Train\n",
      "Predicting Test\n",
      "Reading Data\n",
      "Training ESN\n",
      "Predicting Train\n",
      "Predicting Test\n"
     ]
    }
   ],
   "source": [
    "canela_path = \"../../data/processed/x_potency_totoral_merged.csv\"\n",
    "train_perc = 0.8\n",
    "preprocess = \"minmax\"\n",
    "\n",
    "best_params = pd.read_csv(\"../../results/best_esn/totoral_one_esn.csv\", index_col=0)\n",
    "best_params[\"n_reservoir\"] = best_params[\"n_reservoir\"].astype(\"int64\")\n",
    "best_params[\"lags\"] = best_params[\"lags\"].astype(\"int64\")\n",
    "\n",
    "for i,param in best_params.iterrows():\n",
    "    print(\"Reading Data\")\n",
    "    #Data split parameters\n",
    "\n",
    "    filename = os.path.basename(canela_path).split(\"_\")[2]\n",
    "    X = pd.read_csv(canela_path,index_col=0).values[:,:int(param.lags)]\n",
    "    y = pd.read_csv(canela_path.replace(\"x_potency\", \"y\"), index_col=0).values[:,0].reshape(-1,1)\n",
    "    y_multi = pd.read_csv(canela_path.replace(\"x_potency\", \"y\"), index_col=0).values\n",
    "    trainlen = int(train_perc*len(X))\n",
    "    X_train,X_test = X[:trainlen], X[trainlen:]\n",
    "    y_train,y_test = y[:trainlen], y[trainlen:]\n",
    "    y_train_multi, y_test_multi =y_multi[:trainlen], y_multi[trainlen:]\n",
    "    y_train_orig  = y_train\n",
    "    \n",
    "    \n",
    "    \n",
    "    if preprocess == \"minmax\":\n",
    "        minmax_in = preprocessing.MinMaxScaler(feature_range=(0,1))\n",
    "        minmax_out = preprocessing.MinMaxScaler(feature_range=(0,1))\n",
    "\n",
    "        minmax_in.fit(X_train)\n",
    "        minmax_out.fit(y_train)\n",
    "\n",
    "        preproc_in = minmax_in\n",
    "        preproc_out = minmax_out\n",
    "\n",
    "    else:\n",
    "        standarization_in = preprocessing.StandardScaler()\n",
    "        standarization_out = preprocessing.StandardScaler()\n",
    "\n",
    "        standarization_in.fit(X_train)\n",
    "        standarization_out.fit(y_train)\n",
    "\n",
    "        preproc_in = standarization_in\n",
    "        preproc_out = standarization_out\n",
    "\n",
    "    X_train = preproc_in.transform(X_train) if preproc_in else X_train\n",
    "    X_test = preproc_in.transform(X_test) if preproc_in else X_test\n",
    "    y_train = preproc_out.transform(y_train) if preproc_out else y_train\n",
    "\n",
    "    param = param.drop(\"scores\")\n",
    "    lags = int(param.lags)\n",
    "    param = param.drop(\"lags\")\n",
    "    n_reservoir = param.n_reservoir\n",
    "    param = param.drop(\"n_reservoir\")\n",
    "    print(\"Training ESN\")\n",
    "    clf = ESN(random_state=42, **param)\n",
    "    clf.fit(X_train,y_train)\n",
    "    print(\"Predicting Train\")\n",
    "    y_pred_train = clf.n_predict(X_train)\n",
    "    for i in range(12):\n",
    "         y_pred_train[:,i] = preproc_out.inverse_transform(y_pred_train[:,i].reshape(-1,1)).reshape((-1))\n",
    "    \n",
    "    print(\"Predicting Test\")\n",
    "    y_pred_test = clf.n_predict(X_test,cont=True)\n",
    "    for i in range(12):\n",
    "         y_pred_test[:,i] = preproc_out.inverse_transform(y_pred_test[:,i].reshape(-1,1)).reshape((-1))\n",
    "            \n",
    "    pd.DataFrame(y_pred_train).to_csv(\"totoral_y_pred_train_one_{}lags.csv\".format(lags))\n",
    "    pd.DataFrame(y_pred_test).to_csv(\"totoral_y_pred_test_one_{}lags.csv\".format(lags))\n",
    "    pd.DataFrame(y_train_multi).to_csv(\"totoral_y_train_one_{}lags.csv\".format(lags))\n",
    "    pd.DataFrame(y_test_multi).to_csv(\"totoral_y_test_one_{}lags.csv\".format(lags))"
   ]
  },
  {
   "cell_type": "markdown",
   "metadata": {},
   "source": [
    "# Monte Redondo "
   ]
  },
  {
   "cell_type": "code",
   "execution_count": 5,
   "metadata": {},
   "outputs": [
    {
     "name": "stdout",
     "output_type": "stream",
     "text": [
      "Reading Data\n",
      "Training ESN\n",
      "Predicting Train\n",
      "Predicting Test\n",
      "Saving Data\n",
      "Reading Data\n",
      "Training ESN\n",
      "Predicting Train\n",
      "Predicting Test\n",
      "Saving Data\n",
      "Reading Data\n",
      "Training ESN\n",
      "Predicting Train\n",
      "Predicting Test\n",
      "Saving Data\n",
      "Reading Data\n",
      "Training ESN\n",
      "Predicting Train\n",
      "Predicting Test\n",
      "Saving Data\n"
     ]
    }
   ],
   "source": [
    "canela_path = \"../../data/processed/x_potency_monte_redondo_merged.csv\"\n",
    "train_perc = 0.8\n",
    "preprocess = \"minmax\"\n",
    "\n",
    "best_params = pd.read_csv(\"../../results/best_esn/monte_one_esn.csv\", index_col=0)\n",
    "best_params[\"n_reservoir\"] = best_params[\"n_reservoir\"].astype(\"int64\")\n",
    "best_params[\"lags\"] = best_params[\"lags\"].astype(\"int64\")\n",
    "\n",
    "for i,param in best_params.iterrows():\n",
    "    print(\"Reading Data\")\n",
    "    #Data split parameters\n",
    "\n",
    "    filename = os.path.basename(canela_path).split(\"_\")[2]\n",
    "    X = pd.read_csv(canela_path,index_col=0).values[:,:int(param.lags)]\n",
    "    y = pd.read_csv(canela_path.replace(\"x_potency\", \"y\"), index_col=0).values[:,0].reshape(-1,1)\n",
    "    y_multi = pd.read_csv(canela_path.replace(\"x_potency\", \"y\"), index_col=0).values\n",
    "    trainlen = int(train_perc*len(X))\n",
    "    X_train,X_test = X[:trainlen], X[trainlen:]\n",
    "    y_train,y_test = y[:trainlen], y[trainlen:]\n",
    "    y_train_multi, y_test_multi =y_multi[:trainlen], y_multi[trainlen:]\n",
    "    y_train_orig  = y_train\n",
    "    \n",
    "    \n",
    "    \n",
    "    if preprocess == \"minmax\":\n",
    "        minmax_in = preprocessing.MinMaxScaler(feature_range=(0,1))\n",
    "        minmax_out = preprocessing.MinMaxScaler(feature_range=(0,1))\n",
    "\n",
    "        minmax_in.fit(X_train)\n",
    "        minmax_out.fit(y_train)\n",
    "\n",
    "        preproc_in = minmax_in\n",
    "        preproc_out = minmax_out\n",
    "\n",
    "    else:\n",
    "        standarization_in = preprocessing.StandardScaler()\n",
    "        standarization_out = preprocessing.StandardScaler()\n",
    "\n",
    "        standarization_in.fit(X_train)\n",
    "        standarization_out.fit(y_train)\n",
    "\n",
    "        preproc_in = standarization_in\n",
    "        preproc_out = standarization_out\n",
    "\n",
    "    X_train = preproc_in.transform(X_train) if preproc_in else X_train\n",
    "    X_test = preproc_in.transform(X_test) if preproc_in else X_test\n",
    "    y_train = preproc_out.transform(y_train) if preproc_out else y_train\n",
    "\n",
    "    param = param.drop(\"scores\")\n",
    "    lags = int(param.lags)\n",
    "    param = param.drop(\"lags\")\n",
    "    n_reservoir = param.n_reservoir\n",
    "    param = param.drop(\"n_reservoir\")\n",
    "    print(\"Training ESN\")\n",
    "    clf = ESN(random_state=42, **param)\n",
    "    clf.fit(X_train,y_train)\n",
    "    print(\"Predicting Train\")\n",
    "    y_pred_train = clf.n_predict(X_train)\n",
    "    for i in range(12):\n",
    "         y_pred_train[:,i] = preproc_out.inverse_transform(y_pred_train[:,i].reshape(-1,1)).reshape((-1))\n",
    "    \n",
    "    print(\"Predicting Test\")\n",
    "    y_pred_test = clf.n_predict(X_test,cont=True)\n",
    "    for i in range(12):\n",
    "         y_pred_test[:,i] = preproc_out.inverse_transform(y_pred_test[:,i].reshape(-1,1)).reshape((-1))\n",
    "          \n",
    "    print(\"Saving Data\")\n",
    "    pd.DataFrame(y_pred_train).to_csv(\"monte_y_pred_train_one_{}lags.csv\".format(lags))\n",
    "    pd.DataFrame(y_pred_test).to_csv(\"monte_y_pred_test_one_{}lags.csv\".format(lags))\n",
    "    pd.DataFrame(y_train_multi).to_csv(\"monte_y_train_one_{}lags.csv\".format(lags))\n",
    "    pd.DataFrame(y_test_multi).to_csv(\"monte_y_test_one_{}lags.csv\".format(lags))"
   ]
  },
  {
   "cell_type": "code",
   "execution_count": null,
   "metadata": {
    "collapsed": true
   },
   "outputs": [],
   "source": []
  },
  {
   "cell_type": "code",
   "execution_count": null,
   "metadata": {
    "collapsed": true
   },
   "outputs": [],
   "source": []
  },
  {
   "cell_type": "markdown",
   "metadata": {},
   "source": [
    "# Canela"
   ]
  },
  {
   "cell_type": "code",
   "execution_count": 3,
   "metadata": {
    "collapsed": true
   },
   "outputs": [],
   "source": [
    "canela_path = \"../../data/processed/x_potency_canela1_merged.csv\""
   ]
  },
  {
   "cell_type": "code",
   "execution_count": 5,
   "metadata": {},
   "outputs": [
    {
     "name": "stdout",
     "output_type": "stream",
     "text": [
      "Reading Data\n",
      "Training ESN\n",
      "Predicting Train\n",
      "Predicting Test\n",
      "Reading Data\n",
      "Training ESN\n",
      "Predicting Train\n",
      "Predicting Test\n",
      "Reading Data\n",
      "Training ESN\n",
      "Predicting Train\n",
      "Predicting Test\n",
      "Reading Data\n",
      "Training ESN\n",
      "Predicting Train\n",
      "Predicting Test\n"
     ]
    }
   ],
   "source": [
    "train_perc = 0.8\n",
    "preprocess = \"minmax\"\n",
    "\n",
    "best_params = pd.read_csv(\"../../results/best_esn/canela1_multi_esn.csv\", index_col=0)\n",
    "best_params[\"n_reservoir\"] = best_params[\"n_reservoir\"].astype(\"int64\")\n",
    "best_params[\"lags\"] = best_params[\"lags\"].astype(\"int64\")\n",
    "\n",
    "for i,param in best_params.iterrows():\n",
    "    print(\"Reading Data\")\n",
    "    #Data split parameters\n",
    "\n",
    "    filename = os.path.basename(canela_path).split(\"_\")[2]\n",
    "    X = pd.read_csv(canela_path,index_col=0).values[:,:int(param.lags)]\n",
    "    y = pd.read_csv(canela_path.replace(\"x_potency\", \"y\"), index_col=0)\n",
    "    trainlen = int(train_perc*len(X))\n",
    "    X_train,X_test = X[:trainlen], X[trainlen:]\n",
    "    y_train,y_test = y[:trainlen], y[trainlen:]\n",
    "    y_train_orig  = y_train\n",
    "    \n",
    "    \n",
    "    if preprocess == \"minmax\":\n",
    "        minmax_in = preprocessing.MinMaxScaler(feature_range=(0,1))\n",
    "        minmax_out = preprocessing.MinMaxScaler(feature_range=(0,1))\n",
    "\n",
    "        minmax_in.fit(X_train)\n",
    "        minmax_out.fit(y_train)\n",
    "\n",
    "        preproc_in = minmax_in\n",
    "        preproc_out = minmax_out\n",
    "\n",
    "    else:\n",
    "        standarization_in = preprocessing.StandardScaler()\n",
    "        standarization_out = preprocessing.StandardScaler()\n",
    "\n",
    "        standarization_in.fit(X_train)\n",
    "        standarization_out.fit(y_train)\n",
    "\n",
    "        preproc_in = standarization_in\n",
    "        preproc_out = standarization_out\n",
    "\n",
    "    X_train = preproc_in.transform(X_train) if preproc_in else X_train\n",
    "    X_test = preproc_in.transform(X_test) if preproc_in else X_test\n",
    "    y_train = preproc_out.transform(y_train) if preproc_out else y_train\n",
    "\n",
    "    param = param.drop(\"scores\")\n",
    "    lags = int(param.lags)\n",
    "    param = param.drop(\"lags\")\n",
    "    n_reservoir = param.n_reservoir\n",
    "    param = param.drop(\"n_reservoir\")\n",
    "    print(\"Training ESN\")\n",
    "    clf = ESN(random_state=42, **param)\n",
    "    clf.fit(X_train,y_train)\n",
    "    print(\"Predicting Train\")\n",
    "    y_pred_train = clf.predict(X_train)\n",
    "    y_pred_train = preproc_out.inverse_transform(y_pred_train)\n",
    "    \n",
    "    print(\"Predicting Test\")\n",
    "    y_pred_test = clf.predict(X_test,cont=True)\n",
    "    y_pred_test = preproc_out.inverse_transform(y_pred_test)\n",
    "            \n",
    "    pd.DataFrame(y_pred_train).to_csv(\"canela1_y_pred_train_multi_{}lags.csv\".format(lags))\n",
    "    pd.DataFrame(y_pred_test).to_csv(\"canela1_y_pred_test_multi_{}lags.csv\".format(lags))\n",
    "    pd.DataFrame(y_train_orig).to_csv(\"canela1_y_train_multi_{}lags.csv\".format(lags))\n",
    "    pd.DataFrame(y_test).to_csv(\"canela1_y_test_multi_{}lags.csv\".format(lags))"
   ]
  },
  {
   "cell_type": "code",
   "execution_count": null,
   "metadata": {
    "collapsed": true
   },
   "outputs": [],
   "source": []
  },
  {
   "cell_type": "markdown",
   "metadata": {},
   "source": [
    "# Totoral"
   ]
  },
  {
   "cell_type": "code",
   "execution_count": 6,
   "metadata": {
    "collapsed": true
   },
   "outputs": [],
   "source": [
    "canela_path = \"../../data/processed/x_potency_totoral_merged.csv\""
   ]
  },
  {
   "cell_type": "code",
   "execution_count": 7,
   "metadata": {},
   "outputs": [
    {
     "name": "stdout",
     "output_type": "stream",
     "text": [
      "Reading Data\n",
      "Training ESN\n",
      "Predicting Train\n",
      "Predicting Test\n",
      "Reading Data\n",
      "Training ESN\n",
      "Predicting Train\n",
      "Predicting Test\n",
      "Reading Data\n",
      "Training ESN\n",
      "Predicting Train\n",
      "Predicting Test\n",
      "Reading Data\n",
      "Training ESN\n",
      "Predicting Train\n",
      "Predicting Test\n"
     ]
    }
   ],
   "source": [
    "train_perc = 0.8\n",
    "preprocess = \"minmax\"\n",
    "\n",
    "best_params = pd.read_csv(\"../../results/best_esn/totoral_multi_esn.csv\", index_col=0)\n",
    "best_params[\"n_reservoir\"] = best_params[\"n_reservoir\"].astype(\"int64\")\n",
    "best_params[\"lags\"] = best_params[\"lags\"].astype(\"int64\")\n",
    "\n",
    "for i,param in best_params.iterrows():\n",
    "    print(\"Reading Data\")\n",
    "    #Data split parameters\n",
    "\n",
    "    filename = os.path.basename(canela_path).split(\"_\")[2]\n",
    "    X = pd.read_csv(canela_path,index_col=0).values[:,:int(param.lags)]\n",
    "    y = pd.read_csv(canela_path.replace(\"x_potency\", \"y\"), index_col=0)\n",
    "    trainlen = int(train_perc*len(X))\n",
    "    X_train,X_test = X[:trainlen], X[trainlen:]\n",
    "    y_train,y_test = y[:trainlen], y[trainlen:]\n",
    "    y_train_orig  = y_train\n",
    "    \n",
    "    \n",
    "    if preprocess == \"minmax\":\n",
    "        minmax_in = preprocessing.MinMaxScaler(feature_range=(0,1))\n",
    "        minmax_out = preprocessing.MinMaxScaler(feature_range=(0,1))\n",
    "\n",
    "        minmax_in.fit(X_train)\n",
    "        minmax_out.fit(y_train)\n",
    "\n",
    "        preproc_in = minmax_in\n",
    "        preproc_out = minmax_out\n",
    "\n",
    "    else:\n",
    "        standarization_in = preprocessing.StandardScaler()\n",
    "        standarization_out = preprocessing.StandardScaler()\n",
    "\n",
    "        standarization_in.fit(X_train)\n",
    "        standarization_out.fit(y_train)\n",
    "\n",
    "        preproc_in = standarization_in\n",
    "        preproc_out = standarization_out\n",
    "\n",
    "    X_train = preproc_in.transform(X_train) if preproc_in else X_train\n",
    "    X_test = preproc_in.transform(X_test) if preproc_in else X_test\n",
    "    y_train = preproc_out.transform(y_train) if preproc_out else y_train\n",
    "\n",
    "    param = param.drop(\"scores\")\n",
    "    lags = int(param.lags)\n",
    "    param = param.drop(\"lags\")\n",
    "    n_reservoir = param.n_reservoir\n",
    "    param = param.drop(\"n_reservoir\")\n",
    "    print(\"Training ESN\")\n",
    "    clf = ESN(random_state=42, **param)\n",
    "    clf.fit(X_train,y_train)\n",
    "    print(\"Predicting Train\")\n",
    "    y_pred_train = clf.predict(X_train)\n",
    "    y_pred_train = preproc_out.inverse_transform(y_pred_train)\n",
    "    \n",
    "    print(\"Predicting Test\")\n",
    "    y_pred_test = clf.predict(X_test,cont=True)\n",
    "    y_pred_test = preproc_out.inverse_transform(y_pred_test)\n",
    "            \n",
    "    pd.DataFrame(y_pred_train).to_csv(\"totoral_y_pred_train_multi_{}lags.csv\".format(lags))\n",
    "    pd.DataFrame(y_pred_test).to_csv(\"totoral_y_pred_test_multi_{}lags.csv\".format(lags))\n",
    "    pd.DataFrame(y_train_orig).to_csv(\"totoral_y_train_multi_{}lags.csv\".format(lags))\n",
    "    pd.DataFrame(y_test).to_csv(\"totoral_y_test_multi_{}lags.csv\".format(lags))"
   ]
  },
  {
   "cell_type": "code",
   "execution_count": null,
   "metadata": {
    "collapsed": true
   },
   "outputs": [],
   "source": []
  },
  {
   "cell_type": "markdown",
   "metadata": {},
   "source": [
    "# Monte Redondo"
   ]
  },
  {
   "cell_type": "code",
   "execution_count": 8,
   "metadata": {
    "collapsed": true
   },
   "outputs": [],
   "source": [
    "canela_path = \"../../data/processed/x_potency_monte_redondo_merged.csv\""
   ]
  },
  {
   "cell_type": "code",
   "execution_count": 9,
   "metadata": {
    "scrolled": true
   },
   "outputs": [
    {
     "name": "stdout",
     "output_type": "stream",
     "text": [
      "Reading Data\n",
      "Training ESN\n",
      "Predicting Train\n",
      "Predicting Test\n",
      "Reading Data\n",
      "Training ESN\n",
      "Predicting Train\n",
      "Predicting Test\n",
      "Reading Data\n",
      "Training ESN\n",
      "Predicting Train\n",
      "Predicting Test\n",
      "Reading Data\n",
      "Training ESN\n",
      "Predicting Train\n",
      "Predicting Test\n"
     ]
    }
   ],
   "source": [
    "train_perc = 0.8\n",
    "preprocess = \"minmax\"\n",
    "\n",
    "best_params = pd.read_csv(\"../../results/best_esn/monte_multi_esn.csv\", index_col=0)\n",
    "best_params[\"n_reservoir\"] = best_params[\"n_reservoir\"].astype(\"int64\")\n",
    "best_params[\"lags\"] = best_params[\"lags\"].astype(\"int64\")\n",
    "\n",
    "for i,param in best_params.iterrows():\n",
    "    print(\"Reading Data\")\n",
    "    #Data split parameters\n",
    "\n",
    "    filename = os.path.basename(canela_path).split(\"_\")[2]\n",
    "    X = pd.read_csv(canela_path,index_col=0).values[:,:int(param.lags)]\n",
    "    y = pd.read_csv(canela_path.replace(\"x_potency\", \"y\"), index_col=0)\n",
    "    trainlen = int(train_perc*len(X))\n",
    "    X_train,X_test = X[:trainlen], X[trainlen:]\n",
    "    y_train,y_test = y[:trainlen], y[trainlen:]\n",
    "    y_train_orig  = y_train\n",
    "    \n",
    "    \n",
    "    if preprocess == \"minmax\":\n",
    "        minmax_in = preprocessing.MinMaxScaler(feature_range=(0,1))\n",
    "        minmax_out = preprocessing.MinMaxScaler(feature_range=(0,1))\n",
    "\n",
    "        minmax_in.fit(X_train)\n",
    "        minmax_out.fit(y_train)\n",
    "\n",
    "        preproc_in = minmax_in\n",
    "        preproc_out = minmax_out\n",
    "\n",
    "    else:\n",
    "        standarization_in = preprocessing.StandardScaler()\n",
    "        standarization_out = preprocessing.StandardScaler()\n",
    "\n",
    "        standarization_in.fit(X_train)\n",
    "        standarization_out.fit(y_train)\n",
    "\n",
    "        preproc_in = standarization_in\n",
    "        preproc_out = standarization_out\n",
    "\n",
    "    X_train = preproc_in.transform(X_train) if preproc_in else X_train\n",
    "    X_test = preproc_in.transform(X_test) if preproc_in else X_test\n",
    "    y_train = preproc_out.transform(y_train) if preproc_out else y_train\n",
    "\n",
    "    param = param.drop(\"scores\")\n",
    "    lags = int(param.lags)\n",
    "    param = param.drop(\"lags\")\n",
    "    n_reservoir = param.n_reservoir\n",
    "    param = param.drop(\"n_reservoir\")\n",
    "    print(\"Training ESN\")\n",
    "    clf = ESN(random_state=42, **param)\n",
    "    clf.fit(X_train,y_train)\n",
    "    print(\"Predicting Train\")\n",
    "    y_pred_train = clf.predict(X_train)\n",
    "    y_pred_train = preproc_out.inverse_transform(y_pred_train)\n",
    "    \n",
    "    print(\"Predicting Test\")\n",
    "    y_pred_test = clf.predict(X_test,cont=True)\n",
    "    y_pred_test = preproc_out.inverse_transform(y_pred_test)\n",
    "            \n",
    "    pd.DataFrame(y_pred_train).to_csv(\"monte_y_pred_train_multi_{}lags.csv\".format(lags))\n",
    "    pd.DataFrame(y_pred_test).to_csv(\"monte_y_pred_test_multi_{}lags.csv\".format(lags))\n",
    "    pd.DataFrame(y_train_orig).to_csv(\"monte_y_train_multi_{}lags.csv\".format(lags))\n",
    "    pd.DataFrame(y_test).to_csv(\"monte_y_test_multi_{}lags.csv\".format(lags))"
   ]
  },
  {
   "cell_type": "code",
   "execution_count": 2,
   "metadata": {
    "collapsed": true
   },
   "outputs": [],
   "source": [
    "canela_path = \"../../data/processed/y_canela1_merged.csv\"\n",
    "y = pd.read_csv(canela_path,index_col=0) \n",
    "n,_ = y.shape\n",
    "trainlen = int(0.8*n)\n",
    "y_train,y_test = y[:trainlen], y[trainlen:]"
   ]
  },
  {
   "cell_type": "code",
   "execution_count": 3,
   "metadata": {
    "collapsed": true
   },
   "outputs": [],
   "source": [
    "y_pred = pd.read_csv(\"../../results/esn_results/one_results/canela1_y_pred_test_one_1lags.csv\",index_col=0)"
   ]
  },
  {
   "cell_type": "code",
   "execution_count": 10,
   "metadata": {
    "collapsed": true
   },
   "outputs": [],
   "source": [
    "import matplotlib.pyplot as plt\n",
    "%matplotlib inline"
   ]
  },
  {
   "cell_type": "code",
   "execution_count": 7,
   "metadata": {},
   "outputs": [
    {
     "data": {
      "text/plain": [
       "[<matplotlib.lines.Line2D at 0x7fb99986a550>]"
      ]
     },
     "execution_count": 7,
     "metadata": {},
     "output_type": "execute_result"
    },
    {
     "data": {
      "image/png": "[encoded data removed]",
      "text/plain": [
       "<matplotlib.figure.Figure at 0x7fb9a16896d8>"
      ]
     },
     "metadata": {},
     "output_type": "display_data"
    }
   ],
   "source": [
    "plt.plot(y_pred.iloc[:,0])\n",
    "plt.plot(y_test.values[:,0])"
   ]
  },
  {
   "cell_type": "code",
   "execution_count": 12,
   "metadata": {},
   "outputs": [],
   "source": [
    "canela_path = \"../../data/processed/x_potency_canela1_merged.csv\"\n",
    "\n",
    "X = pd.read_csv(canela_path,index_col=0).values[:,0]\n",
    "y_naive_canela = pd.DataFrame(np.repeat(X,12).reshape(-1,12))\n",
    "y_naive_canela.to_csv(\"y_naive_canela.csv\")\n",
    "\n",
    "canela_path = \"../../data/processed/x_potency_totoral_merged.csv\"\n",
    "X = pd.read_csv(canela_path,index_col=0).values[:,0]\n",
    "y_naive_totoral = pd.DataFrame(np.repeat(X,12).reshape(-1,12))\n",
    "y_naive_totoral.to_csv(\"y_naive_totoral.csv\")\n",
    "\n",
    "canela_path = \"../../data/processed/x_potency_monte_redondo_merged.csv\"\n",
    "X = pd.read_csv(canela_path,index_col=0).values[:,0]\n",
    "y_naive_monte = pd.DataFrame(np.repeat(X,12).reshape(-1,12))\n",
    "y_naive_monte.to_csv(\"y_naive_monte.csv\")\n"
   ]
  },
  {
   "cell_type": "code",
   "execution_count": 8,
   "metadata": {},
   "outputs": [
    {
     "data": {
      "text/plain": [
       "array([ 10.3,   7.7,   7.2, ...,   5.1,   3.3,   2.1])"
      ]
     },
     "execution_count": 8,
     "metadata": {},
     "output_type": "execute_result"
    }
   ],
   "source": []
  },
  {
   "cell_type": "code",
   "execution_count": null,
   "metadata": {
    "collapsed": true
   },
   "outputs": [],
   "source": []
  }
 ],
 "metadata": {
  "kernelspec": {
   "display_name": "Python 3",
   "language": "python",
   "name": "python3"
  },
  "language_info": {
   "codemirror_mode": {
    "name": "ipython",
    "version": 3
   },
   "file_extension": ".py",
   "mimetype": "text/x-python",
   "name": "python",
   "nbconvert_exporter": "python",
   "pygments_lexer": "ipython3",
   "version": "3.6.3"
  }
 },
 "nbformat": 4,
 "nbformat_minor": 2
}
