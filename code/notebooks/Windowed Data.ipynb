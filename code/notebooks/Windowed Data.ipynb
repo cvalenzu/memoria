{
 "cells": [
  {
   "cell_type": "code",
   "execution_count": 1,
   "metadata": {
    "collapsed": true
   },
   "outputs": [],
   "source": [
    "import pandas as pd\n",
    "import os\n",
    "import matplotlib.pyplot as plt\n",
    "from ipywidgets import interact, interactive, fixed, interact_manual\n",
    "\n",
    "%matplotlib inline"
   ]
  },
  {
   "cell_type": "code",
   "execution_count": 2,
   "metadata": {
    "collapsed": true
   },
   "outputs": [],
   "source": [
    "name = \"canela1_merged\"\n",
    "data = pd.read_csv(\"../../data/{}.csv\".format(name), index_col=0)\n",
    "data.index = pd.to_datetime(data.index)"
   ]
  },
  {
   "cell_type": "code",
   "execution_count": 3,
   "metadata": {
    "collapsed": true
   },
   "outputs": [],
   "source": [
    "max_input = 24\n",
    "max_output = 12\n",
    "data_points = max_input + max_output\n",
    "in_indexes = list(range(max_input-1,-1,-1))\n",
    "out_indexes = list(range(max_output))"
   ]
  },
  {
   "cell_type": "code",
   "execution_count": 4,
   "metadata": {
    "collapsed": true
   },
   "outputs": [],
   "source": [
    "x_result = dict()\n",
    "y_result = dict()\n",
    "\n",
    "for column in data.columns:\n",
    "    x_result[column] = dict()\n",
    "\n",
    "for test,i in enumerate(range(1,len(data) - (data_points))):\n",
    "    indexes = data.index.values[-(i+data_points):-i]\n",
    "    x_index = indexes[:max_input]\n",
    "    y_index = indexes[max_input:]\n",
    "    x_subset = data.loc[x_index]\n",
    "    y_subset = data.loc[y_index]\n",
    "    index = x_index[-1]\n",
    "    for column in x_subset.columns:\n",
    "        x_subset[column].index = in_indexes\n",
    "        x_result[column][index] = x_subset[column].sort_index(ascending=True)\n",
    "    y_subset[\"potency\"].index = out_indexes\n",
    "    y_result[index] = y_subset[\"potency\"]\n"
   ]
  },
  {
   "cell_type": "code",
   "execution_count": 5,
   "metadata": {
    "collapsed": true
   },
   "outputs": [],
   "source": [
    "for column in x_result:\n",
    "    x_result[column] = pd.DataFrame.from_dict(x_result[column],orient=\"index\")\n",
    "y_result = pd.DataFrame.from_dict(y_result,orient=\"index\")"
   ]
  },
  {
   "cell_type": "code",
   "execution_count": 6,
   "metadata": {
    "collapsed": true
   },
   "outputs": [],
   "source": [
    "os.makedirs(\"../../data/processed/\",exist_ok=True)"
   ]
  },
  {
   "cell_type": "code",
   "execution_count": 7,
   "metadata": {
    "collapsed": true
   },
   "outputs": [],
   "source": [
    "for column in x_result:\n",
    "    x_result[column].to_csv(\"../../data/processed/x_{}_{}.csv\".format(column,name))\n",
    "\n",
    "y_result.to_csv(\"../../data/processed/y_{}.csv\".format(name))"
   ]
  },
  {
   "cell_type": "code",
   "execution_count": 8,
   "metadata": {
    "collapsed": true
   },
   "outputs": [],
   "source": [
    "df = x_result[\"potency\"]"
   ]
  },
  {
   "cell_type": "code",
   "execution_count": 9,
   "metadata": {
    "scrolled": true
   },
   "outputs": [
    {
     "data": {
      "text/plain": [
       "0     10.3\n",
       "1     10.4\n",
       "2     12.2\n",
       "3     15.8\n",
       "4     15.7\n",
       "5     17.5\n",
       "6     16.9\n",
       "7     17.6\n",
       "8     15.1\n",
       "9     14.9\n",
       "10    14.9\n",
       "11    14.6\n",
       "12    13.0\n",
       "13    13.3\n",
       "14    10.9\n",
       "15     7.6\n",
       "16     9.9\n",
       "17    12.7\n",
       "18    11.0\n",
       "19    13.1\n",
       "20    10.9\n",
       "21     7.0\n",
       "22     6.1\n",
       "23    10.4\n",
       "Name: 2009-11-10 01:00:00, dtype: float64"
      ]
     },
     "execution_count": 9,
     "metadata": {},
     "output_type": "execute_result"
    }
   ],
   "source": [
    "df.iloc[0]"
   ]
  },
  {
   "cell_type": "code",
   "execution_count": 31,
   "metadata": {},
   "outputs": [
    {
     "data": {
      "text/plain": [
       "(36293, 24)"
      ]
     },
     "execution_count": 31,
     "metadata": {},
     "output_type": "execute_result"
    }
   ],
   "source": [
    "df.shape"
   ]
  },
  {
   "cell_type": "code",
   "execution_count": 35,
   "metadata": {},
   "outputs": [],
   "source": [
    "delta = df.index[-1] - df.index[0]"
   ]
  },
  {
   "cell_type": "code",
   "execution_count": 45,
   "metadata": {},
   "outputs": [
    {
     "data": {
      "text/plain": [
       "302.40000000000003"
      ]
     },
     "execution_count": 45,
     "metadata": {},
     "output_type": "execute_result"
    }
   ],
   "source": [
    "delta.days * .2"
   ]
  },
  {
   "cell_type": "code",
   "execution_count": null,
   "metadata": {
    "collapsed": true
   },
   "outputs": [],
   "source": []
  }
 ],
 "metadata": {
  "kernelspec": {
   "display_name": "Python 3",
   "language": "python",
   "name": "python3"
  },
  "language_info": {
   "codemirror_mode": {
    "name": "ipython",
    "version": 3
   },
   "file_extension": ".py",
   "mimetype": "text/x-python",
   "name": "python",
   "nbconvert_exporter": "python",
   "pygments_lexer": "ipython3",
   "version": "3.6.2"
  }
 },
 "nbformat": 4,
 "nbformat_minor": 2
}
