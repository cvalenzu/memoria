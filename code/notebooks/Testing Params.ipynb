{
 "cells": [
  {
   "cell_type": "code",
   "execution_count": 33,
   "metadata": {
    "collapsed": true
   },
   "outputs": [],
   "source": [
    "import sys\n",
    "sys.path.append('../libs')\n",
    "\n",
    "from esnlib import *\n",
    "from helpers import *\n",
    "import pandas as pd\n",
    "\n",
    "from sklearn import preprocessing\n",
    "import sklearn.metrics as metrics\n",
    "\n",
    "import sklearn.model_selection as ms\n",
    "import matplotlib.pyplot as plt\n",
    "import sklearn.metrics as sm\n",
    "\n",
    "%matplotlib inline"
   ]
  },
  {
   "cell_type": "code",
   "execution_count": 34,
   "metadata": {
    "collapsed": true
   },
   "outputs": [],
   "source": [
    "def mape_score(y_test,y_pred):\n",
    "    n = len(y_test)\n",
    "    error = np.abs((y_test - y_pred)/np.mean(y_test))\n",
    "    return np.sum(error)/n\n",
    "    \n",
    "def show_errors(y_test,y_pred):\n",
    "    if type(y_test) is pd.DataFrame:\n",
    "        y_test = y_test.values\n",
    "    if type(y_pred) is pd.DataFrame:\n",
    "        y_pred = y_pred.values\n",
    "        \n",
    "    n_metrics = 5\n",
    "    metrics = np.zeros((n_metrics,13))\n",
    "    for i in range(12):\n",
    "        mae = sm.mean_absolute_error(y_test[:,i],y_pred[:,i])\n",
    "        mse = sm.mean_squared_error(y_test[:,i],y_pred[:,i])\n",
    "        medae = sm.median_absolute_error(y_test[:,i],y_pred[:,i])\n",
    "        r2 = sm.r2_score(y_test[:,i],y_pred[:,i])\n",
    "        mape = mape_score(y_test[:,i],y_pred[:,i])\n",
    "        metrics[0,i] = mae\n",
    "        metrics[1,i] = mse\n",
    "        metrics[2,i] = medae\n",
    "        metrics[3,i] = mape\n",
    "        metrics[4,i] = r2\n",
    "    for i in range(n_metrics):\n",
    "        metrics[i,12] = np.mean(metrics[i,:12])\n",
    "    \n",
    "    metrics = pd.DataFrame(metrics)\n",
    "    column_names = []\n",
    "    for i in range(12):\n",
    "        column_names.append(\"$t+{}$\".format(i))\n",
    "    column_names.append(\"$\\overline{t+i}$\")\n",
    "    metrics.index = [\"MAE\",\"MSE\", \"MeAE\", \"MAPE\" ,\"$r^2$\"]\n",
    "    metrics.columns = column_names\n",
    "    return metrics"
   ]
  },
  {
   "cell_type": "code",
   "execution_count": 11,
   "metadata": {
    "collapsed": true
   },
   "outputs": [],
   "source": [
    "data = pd.Series.from_csv('../../data/potency/canela1.csv')\n",
    "\n",
    "input_steps = 24\n",
    "prediction_steps = 12\n",
    "train_perc = 0.8\n",
    "\n",
    "X,y = getDataWindowed(data,input_steps,prediction_steps)\n",
    "\n",
    "trainlen = int(train_perc*len(X))\n",
    "X_train,X_test = X[:trainlen], X[trainlen:]\n",
    "y_train,y_test = y[:trainlen], y[trainlen:]"
   ]
  },
  {
   "cell_type": "code",
   "execution_count": 12,
   "metadata": {
    "collapsed": true
   },
   "outputs": [],
   "source": [
    "minmax_in = preprocessing.MinMaxScaler(feature_range=(-1,1)) \n",
    "standarization_in = preprocessing.StandardScaler()\n",
    "minmax_out = preprocessing.MinMaxScaler(feature_range=(-1,1)) \n",
    "standarization_out = preprocessing.StandardScaler()\n",
    "\n",
    "minmax_in.fit(X_train)\n",
    "minmax_out.fit(y_train)\n",
    "standarization_in.fit(X_train)\n",
    "standarization_out.fit(X_train)\n",
    "preproc_in = minmax_in\n",
    "preproc_out = minmax_out"
   ]
  },
  {
   "cell_type": "code",
   "execution_count": 13,
   "metadata": {
    "collapsed": true
   },
   "outputs": [],
   "source": [
    "X_train = preproc_in.transform(X_train) if preproc_in else X_train\n",
    "X_test = preproc_in.transform(X_test) if preproc_in else X_test\n",
    "\n",
    "y_train = preproc_out.transform(y_train) if preproc_out else y_train\n",
    "y_test = preproc_out.transform(y_test) if preproc_out else y_test"
   ]
  },
  {
   "cell_type": "code",
   "execution_count": 19,
   "metadata": {},
   "outputs": [],
   "source": [
    "def scorer(estimator, X,y):\n",
    "    y_pred = estimator.predict(X,cont=True)\n",
    "    return -metrics.mean_squared_error(y,y_pred)\n",
    "\n",
    "n_splits = 5\n",
    "tscv = ms.TimeSeriesSplit(n_splits=5)\n",
    "\n",
    "\n",
    "#PARAMS\n",
    "n_reservoir = 1000\n",
    "sparsity = 0.9\n",
    "leaking_rate = 0.3\n",
    "regularization=1e-8\n",
    "clf = ESN(random_state=42,n_reservoir=n_reservoir,sparsity=sparsity, \n",
    "          leaking_rate=leaking_rate,regularization=regularization)"
   ]
  },
  {
   "cell_type": "code",
   "execution_count": 20,
   "metadata": {
    "collapsed": true
   },
   "outputs": [],
   "source": [
    "score = ms.cross_val_score(clf,X_train,y_train, cv = tscv, n_jobs=-1,scoring=scorer)"
   ]
  },
  {
   "cell_type": "code",
   "execution_count": 25,
   "metadata": {},
   "outputs": [
    {
     "data": {
      "text/plain": [
       "ESN(activation=<ufunc 'tanh'>, leaking_rate=0.3, n_inputs=24, n_outputs=12,\n",
       "  n_reservoir=1000,\n",
       "  random_state=<mtrand.RandomState object at 0x7f9cbae76678>,\n",
       "  regularization=1e-08, sparsity=0.9, spectral_radius=0.135)"
      ]
     },
     "execution_count": 25,
     "metadata": {},
     "output_type": "execute_result"
    }
   ],
   "source": [
    "clf.fit(X_train,y_train)"
   ]
  },
  {
   "cell_type": "code",
   "execution_count": 26,
   "metadata": {
    "collapsed": true
   },
   "outputs": [],
   "source": [
    "y_train_approx = clf.predict(X_train, cont=False)"
   ]
  },
  {
   "cell_type": "code",
   "execution_count": 27,
   "metadata": {
    "collapsed": true
   },
   "outputs": [],
   "source": [
    "y_test_approx = clf.predict(X_test,cont=True)"
   ]
  },
  {
   "cell_type": "code",
   "execution_count": 35,
   "metadata": {},
   "outputs": [
    {
     "data": {
      "text/html": [
       "<div>\n",
       "<style>\n",
       "    .dataframe thead tr:only-child th {\n",
       "        text-align: right;\n",
       "    }\n",
       "\n",
       "    .dataframe thead th {\n",
       "        text-align: left;\n",
       "    }\n",
       "\n",
       "    .dataframe tbody tr th {\n",
       "        vertical-align: top;\n",
       "    }\n",
       "</style>\n",
       "<table border=\"1\" class=\"dataframe\">\n",
       "  <thead>\n",
       "    <tr style=\"text-align: right;\">\n",
       "      <th></th>\n",
       "      <th>$t+0$</th>\n",
       "      <th>$t+1$</th>\n",
       "      <th>$t+2$</th>\n",
       "      <th>$t+3$</th>\n",
       "      <th>$t+4$</th>\n",
       "      <th>$t+5$</th>\n",
       "      <th>$t+6$</th>\n",
       "      <th>$t+7$</th>\n",
       "      <th>$t+8$</th>\n",
       "      <th>$t+9$</th>\n",
       "      <th>$t+10$</th>\n",
       "      <th>$t+11$</th>\n",
       "      <th>$\\overline{t+i}$</th>\n",
       "    </tr>\n",
       "  </thead>\n",
       "  <tbody>\n",
       "    <tr>\n",
       "      <th>MAE</th>\n",
       "      <td>0.121217</td>\n",
       "      <td>0.148239</td>\n",
       "      <td>0.169635</td>\n",
       "      <td>0.186610</td>\n",
       "      <td>0.200094</td>\n",
       "      <td>0.211206</td>\n",
       "      <td>0.220356</td>\n",
       "      <td>0.227737</td>\n",
       "      <td>0.233726</td>\n",
       "      <td>0.238522</td>\n",
       "      <td>0.242395</td>\n",
       "      <td>0.245805</td>\n",
       "      <td>0.203795</td>\n",
       "    </tr>\n",
       "    <tr>\n",
       "      <th>MSE</th>\n",
       "      <td>0.034698</td>\n",
       "      <td>0.048765</td>\n",
       "      <td>0.061376</td>\n",
       "      <td>0.071994</td>\n",
       "      <td>0.080738</td>\n",
       "      <td>0.088200</td>\n",
       "      <td>0.094352</td>\n",
       "      <td>0.099331</td>\n",
       "      <td>0.103284</td>\n",
       "      <td>0.106543</td>\n",
       "      <td>0.109160</td>\n",
       "      <td>0.111405</td>\n",
       "      <td>0.084154</td>\n",
       "    </tr>\n",
       "    <tr>\n",
       "      <th>MeAE</th>\n",
       "      <td>0.069249</td>\n",
       "      <td>0.089953</td>\n",
       "      <td>0.106937</td>\n",
       "      <td>0.121055</td>\n",
       "      <td>0.132982</td>\n",
       "      <td>0.142262</td>\n",
       "      <td>0.150972</td>\n",
       "      <td>0.158447</td>\n",
       "      <td>0.164599</td>\n",
       "      <td>0.168902</td>\n",
       "      <td>0.173266</td>\n",
       "      <td>0.176022</td>\n",
       "      <td>0.137887</td>\n",
       "    </tr>\n",
       "    <tr>\n",
       "      <th>MAPE</th>\n",
       "      <td>0.177780</td>\n",
       "      <td>0.217406</td>\n",
       "      <td>0.248780</td>\n",
       "      <td>0.273673</td>\n",
       "      <td>0.293446</td>\n",
       "      <td>0.309736</td>\n",
       "      <td>0.323149</td>\n",
       "      <td>0.333972</td>\n",
       "      <td>0.342752</td>\n",
       "      <td>0.349778</td>\n",
       "      <td>0.355452</td>\n",
       "      <td>0.360443</td>\n",
       "      <td>0.298864</td>\n",
       "    </tr>\n",
       "    <tr>\n",
       "      <th>$r^2$</th>\n",
       "      <td>0.788096</td>\n",
       "      <td>0.702179</td>\n",
       "      <td>0.625158</td>\n",
       "      <td>0.560308</td>\n",
       "      <td>0.506912</td>\n",
       "      <td>0.461338</td>\n",
       "      <td>0.423768</td>\n",
       "      <td>0.393362</td>\n",
       "      <td>0.369212</td>\n",
       "      <td>0.349283</td>\n",
       "      <td>0.333269</td>\n",
       "      <td>0.319514</td>\n",
       "      <td>0.486033</td>\n",
       "    </tr>\n",
       "  </tbody>\n",
       "</table>\n",
       "</div>"
      ],
      "text/plain": [
       "          $t+0$     $t+1$     $t+2$     $t+3$     $t+4$     $t+5$     $t+6$  \\\n",
       "MAE    0.121217  0.148239  0.169635  0.186610  0.200094  0.211206  0.220356   \n",
       "MSE    0.034698  0.048765  0.061376  0.071994  0.080738  0.088200  0.094352   \n",
       "MeAE   0.069249  0.089953  0.106937  0.121055  0.132982  0.142262  0.150972   \n",
       "MAPE   0.177780  0.217406  0.248780  0.273673  0.293446  0.309736  0.323149   \n",
       "$r^2$  0.788096  0.702179  0.625158  0.560308  0.506912  0.461338  0.423768   \n",
       "\n",
       "          $t+7$     $t+8$     $t+9$    $t+10$    $t+11$  $\\overline{t+i}$  \n",
       "MAE    0.227737  0.233726  0.238522  0.242395  0.245805          0.203795  \n",
       "MSE    0.099331  0.103284  0.106543  0.109160  0.111405          0.084154  \n",
       "MeAE   0.158447  0.164599  0.168902  0.173266  0.176022          0.137887  \n",
       "MAPE   0.333972  0.342752  0.349778  0.355452  0.360443          0.298864  \n",
       "$r^2$  0.393362  0.369212  0.349283  0.333269  0.319514          0.486033  "
      ]
     },
     "execution_count": 35,
     "metadata": {},
     "output_type": "execute_result"
    }
   ],
   "source": [
    "show_errors(y_train,y_train_approx)"
   ]
  },
  {
   "cell_type": "code",
   "execution_count": 36,
   "metadata": {},
   "outputs": [
    {
     "data": {
      "text/html": [
       "<div>\n",
       "<style>\n",
       "    .dataframe thead tr:only-child th {\n",
       "        text-align: right;\n",
       "    }\n",
       "\n",
       "    .dataframe thead th {\n",
       "        text-align: left;\n",
       "    }\n",
       "\n",
       "    .dataframe tbody tr th {\n",
       "        vertical-align: top;\n",
       "    }\n",
       "</style>\n",
       "<table border=\"1\" class=\"dataframe\">\n",
       "  <thead>\n",
       "    <tr style=\"text-align: right;\">\n",
       "      <th></th>\n",
       "      <th>$t+0$</th>\n",
       "      <th>$t+1$</th>\n",
       "      <th>$t+2$</th>\n",
       "      <th>$t+3$</th>\n",
       "      <th>$t+4$</th>\n",
       "      <th>$t+5$</th>\n",
       "      <th>$t+6$</th>\n",
       "      <th>$t+7$</th>\n",
       "      <th>$t+8$</th>\n",
       "      <th>$t+9$</th>\n",
       "      <th>$t+10$</th>\n",
       "      <th>$t+11$</th>\n",
       "      <th>$\\overline{t+i}$</th>\n",
       "    </tr>\n",
       "  </thead>\n",
       "  <tbody>\n",
       "    <tr>\n",
       "      <th>MAE</th>\n",
       "      <td>0.125190</td>\n",
       "      <td>0.154469</td>\n",
       "      <td>0.175380</td>\n",
       "      <td>0.192913</td>\n",
       "      <td>0.207108</td>\n",
       "      <td>0.218493</td>\n",
       "      <td>0.227547</td>\n",
       "      <td>0.235292</td>\n",
       "      <td>0.242215</td>\n",
       "      <td>0.248031</td>\n",
       "      <td>0.252050</td>\n",
       "      <td>0.255772</td>\n",
       "      <td>0.211205</td>\n",
       "    </tr>\n",
       "    <tr>\n",
       "      <th>MSE</th>\n",
       "      <td>0.039190</td>\n",
       "      <td>0.055739</td>\n",
       "      <td>0.068350</td>\n",
       "      <td>0.079400</td>\n",
       "      <td>0.088600</td>\n",
       "      <td>0.095903</td>\n",
       "      <td>0.101400</td>\n",
       "      <td>0.106768</td>\n",
       "      <td>0.111733</td>\n",
       "      <td>0.115640</td>\n",
       "      <td>0.118444</td>\n",
       "      <td>0.120554</td>\n",
       "      <td>0.091810</td>\n",
       "    </tr>\n",
       "    <tr>\n",
       "      <th>MeAE</th>\n",
       "      <td>0.068049</td>\n",
       "      <td>0.090959</td>\n",
       "      <td>0.108611</td>\n",
       "      <td>0.124518</td>\n",
       "      <td>0.137192</td>\n",
       "      <td>0.147358</td>\n",
       "      <td>0.156683</td>\n",
       "      <td>0.164542</td>\n",
       "      <td>0.170903</td>\n",
       "      <td>0.176953</td>\n",
       "      <td>0.181194</td>\n",
       "      <td>0.183423</td>\n",
       "      <td>0.142532</td>\n",
       "    </tr>\n",
       "    <tr>\n",
       "      <th>MAPE</th>\n",
       "      <td>0.173895</td>\n",
       "      <td>0.215271</td>\n",
       "      <td>0.245188</td>\n",
       "      <td>0.270395</td>\n",
       "      <td>0.290895</td>\n",
       "      <td>0.307502</td>\n",
       "      <td>0.321015</td>\n",
       "      <td>0.332683</td>\n",
       "      <td>0.342835</td>\n",
       "      <td>0.351622</td>\n",
       "      <td>0.357544</td>\n",
       "      <td>0.363195</td>\n",
       "      <td>0.297670</td>\n",
       "    </tr>\n",
       "    <tr>\n",
       "      <th>$r^2$</th>\n",
       "      <td>0.631551</td>\n",
       "      <td>0.410213</td>\n",
       "      <td>0.184485</td>\n",
       "      <td>-0.054830</td>\n",
       "      <td>-0.300276</td>\n",
       "      <td>-0.544762</td>\n",
       "      <td>-0.776166</td>\n",
       "      <td>-1.006179</td>\n",
       "      <td>-1.216386</td>\n",
       "      <td>-1.392286</td>\n",
       "      <td>-1.518605</td>\n",
       "      <td>-1.634851</td>\n",
       "      <td>-0.601508</td>\n",
       "    </tr>\n",
       "  </tbody>\n",
       "</table>\n",
       "</div>"
      ],
      "text/plain": [
       "          $t+0$     $t+1$     $t+2$     $t+3$     $t+4$     $t+5$     $t+6$  \\\n",
       "MAE    0.125190  0.154469  0.175380  0.192913  0.207108  0.218493  0.227547   \n",
       "MSE    0.039190  0.055739  0.068350  0.079400  0.088600  0.095903  0.101400   \n",
       "MeAE   0.068049  0.090959  0.108611  0.124518  0.137192  0.147358  0.156683   \n",
       "MAPE   0.173895  0.215271  0.245188  0.270395  0.290895  0.307502  0.321015   \n",
       "$r^2$  0.631551  0.410213  0.184485 -0.054830 -0.300276 -0.544762 -0.776166   \n",
       "\n",
       "          $t+7$     $t+8$     $t+9$    $t+10$    $t+11$  $\\overline{t+i}$  \n",
       "MAE    0.235292  0.242215  0.248031  0.252050  0.255772          0.211205  \n",
       "MSE    0.106768  0.111733  0.115640  0.118444  0.120554          0.091810  \n",
       "MeAE   0.164542  0.170903  0.176953  0.181194  0.183423          0.142532  \n",
       "MAPE   0.332683  0.342835  0.351622  0.357544  0.363195          0.297670  \n",
       "$r^2$ -1.006179 -1.216386 -1.392286 -1.518605 -1.634851         -0.601508  "
      ]
     },
     "execution_count": 36,
     "metadata": {},
     "output_type": "execute_result"
    }
   ],
   "source": [
    "show_errors(y_test_approx , y_test)"
   ]
  },
  {
   "cell_type": "code",
   "execution_count": 44,
   "metadata": {},
   "outputs": [
    {
     "data": {
      "text/plain": [
       "<matplotlib.legend.Legend at 0x7f9cb9d449e8>"
      ]
     },
     "execution_count": 44,
     "metadata": {},
     "output_type": "execute_result"
    },
    {
     "data": {
      "image/png": "[encoded data removed]",
      "text/plain": [
       "<matplotlib.figure.Figure at 0x7f9cb9cbf8d0>"
      ]
     },
     "metadata": {},
     "output_type": "display_data"
    }
   ],
   "source": [
    "plt.plot(y_test[:1000,11],label=\"real\")\n",
    "plt.plot(y_test_approx[:1000,11],label=\"predicted\")\n",
    "plt.legend()"
   ]
  },
  {
   "cell_type": "code",
   "execution_count": 39,
   "metadata": {},
   "outputs": [
    {
     "data": {
      "text/plain": [
       "<matplotlib.legend.Legend at 0x7f9cb9b3b6a0>"
      ]
     },
     "execution_count": 39,
     "metadata": {},
     "output_type": "execute_result"
    },
    {
     "data": {
      "image/png": "[encoded data removed]",
      "text/plain": [
       "<matplotlib.figure.Figure at 0x7f9cba0c3240>"
      ]
     },
     "metadata": {},
     "output_type": "display_data"
    }
   ],
   "source": [
    "plt.plot(y_train[:1000,0],label=\"real\")\n",
    "plt.plot(y_train_approx[:1000,0],label=\"predicted\")\n",
    "plt.legend()"
   ]
  },
  {
   "cell_type": "code",
   "execution_count": null,
   "metadata": {
    "collapsed": true
   },
   "outputs": [],
   "source": []
  }
 ],
 "metadata": {
  "kernelspec": {
   "display_name": "Python 3",
   "language": "python",
   "name": "python3"
  },
  "language_info": {
   "codemirror_mode": {
    "name": "ipython",
    "version": 3
   },
   "file_extension": ".py",
   "mimetype": "text/x-python",
   "name": "python",
   "nbconvert_exporter": "python",
   "pygments_lexer": "ipython3",
   "version": "3.6.2"
  },
  "toc": {
   "colors": {
    "hover_highlight": "#DAA520",
    "navigate_num": "#000000",
    "navigate_text": "#333333",
    "running_highlight": "#FF0000",
    "selected_highlight": "#FFD700",
    "sidebar_border": "#EEEEEE",
    "wrapper_background": "#FFFFFF"
   },
   "moveMenuLeft": true,
   "nav_menu": {
    "height": "12px",
    "width": "252px"
   },
   "navigate_menu": true,
   "number_sections": true,
   "sideBar": true,
   "threshold": 4,
   "toc_cell": false,
   "toc_section_display": "block",
   "toc_window_display": false,
   "widenNotebook": false
  }
 },
 "nbformat": 4,
 "nbformat_minor": 2
}
