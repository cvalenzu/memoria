{
 "cells": [
  {
   "cell_type": "code",
   "execution_count": 1,
   "metadata": {
    "collapsed": true
   },
   "outputs": [],
   "source": [
    "import sys\n",
    "sys.path.append('../libs')\n",
    "\n",
    "from esnlib import *\n",
    "import pandas as pd\n",
    "\n",
    "from sklearn import preprocessing\n",
    "import sklearn.metrics as metrics\n",
    "\n",
    "import sklearn.model_selection as ms\n",
    "import matplotlib.pyplot as plt\n",
    "%matplotlib inline"
   ]
  },
  {
   "cell_type": "code",
   "execution_count": 2,
   "metadata": {
    "collapsed": true
   },
   "outputs": [],
   "source": [
    "data = pd.Series.from_csv('../../data/meteo.csv')[:1000]\n",
    "\n",
    "prediction_steps = 12\n",
    "input_steps = 12\n",
    "train_perc = 0.8\n",
    "\n",
    "X,y = getDataWindowed(data,input_steps,prediction_steps)\n",
    "\n",
    "trainlen = int(train_perc*len(X))\n",
    "X_train,X_test = X[:trainlen], X[trainlen:]\n",
    "y_train,y_test = y[:trainlen], y[trainlen:]"
   ]
  },
  {
   "cell_type": "code",
   "execution_count": 3,
   "metadata": {
    "collapsed": true
   },
   "outputs": [],
   "source": [
    "minmax_in = preprocessing.MinMaxScaler(feature_range=(-1,1)) \n",
    "standarization_in = preprocessing.StandardScaler()\n",
    "minmax_out = preprocessing.MinMaxScaler(feature_range=(-1,1)) \n",
    "standarization_out = preprocessing.StandardScaler()\n",
    "\n",
    "minmax_in.fit(X_train)\n",
    "minmax_out.fit(y_train)\n",
    "standarization_in.fit(X_train)\n",
    "standarization_out.fit(X_train)\n",
    "preproc_in = standarization_in\n",
    "preproc_out = standarization_out"
   ]
  },
  {
   "cell_type": "code",
   "execution_count": 4,
   "metadata": {
    "collapsed": true
   },
   "outputs": [],
   "source": [
    "X_train = preproc_in.transform(X_train) if preproc_in else X_train\n",
    "X_test = preproc_in.transform(X_test) if preproc_in else X_test\n",
    "\n",
    "y_train = preproc_out.transform(y_train) if preproc_out else y_train\n",
    "y_test = preproc_out.transform(y_test) if preproc_out else y_test"
   ]
  },
  {
   "cell_type": "code",
   "execution_count": 5,
   "metadata": {},
   "outputs": [
    {
     "name": "stdout",
     "output_type": "stream",
     "text": [
      "Fitting 5 folds for each of 125 candidates, totalling 625 fits\n"
     ]
    },
    {
     "name": "stderr",
     "output_type": "stream",
     "text": [
      "[Parallel(n_jobs=-1)]: Done  42 tasks      | elapsed:   27.8s\n",
      "[Parallel(n_jobs=-1)]: Done 192 tasks      | elapsed:  1.8min\n",
      "[Parallel(n_jobs=-1)]: Done 442 tasks      | elapsed:  4.1min\n",
      "[Parallel(n_jobs=-1)]: Done 625 out of 625 | elapsed:  5.8min finished\n"
     ]
    },
    {
     "data": {
      "text/plain": [
       "GridSearchCV(cv=TimeSeriesSplit(n_splits=5), error_score='raise',\n",
       "       estimator=ESN(activation=<ufunc 'tanh'>, leaking_rate=0.3, n_reservoir=1000,\n",
       "  random_state=<mtrand.RandomState object at 0x7f7c534ac3f0>,\n",
       "  regularization=1, sparsity=0, spectral_radius=0.135),\n",
       "       fit_params={}, iid=False, n_jobs=-1,\n",
       "       param_grid={'spectral_radius': array([ 0.  ,  0.25,  0.5 ,  0.75,  1.  ]), 'sparsity': array([ 0.1   ,  0.3225,  0.545 ,  0.7675,  0.99  ]), 'leaking_rate': array([ 0.  ,  0.25,  0.5 ,  0.75,  1.  ])},\n",
       "       pre_dispatch='2*n_jobs', refit=True, return_train_score=True,\n",
       "       scoring=<function scorer at 0x7f7c527358c8>, verbose=True)"
      ]
     },
     "execution_count": 5,
     "metadata": {},
     "output_type": "execute_result"
    }
   ],
   "source": [
    "def scorer(estimator, X,y):\n",
    "    y_pred = estimator.predict(X,cont=True)\n",
    "    #return metrics.r2_score(y,y_pred)\n",
    "    return -metrics.mean_squared_error(y,y_pred)\n",
    "\n",
    "tscv = ms.TimeSeriesSplit(n_splits=5)\n",
    "clf = ESN(random_state=42,n_reservoir=1000)\n",
    "params = {'spectral_radius':np.linspace(0,1,5), 'sparsity':np.linspace(0.1,0.99,5), 'leaking_rate':np.linspace(0,1,5)}\n",
    "cv = ms.GridSearchCV(clf,params, n_jobs=-1, cv=tscv, verbose=True, scoring=scorer, iid=False)\n",
    "cv.fit(X_train,y_train)"
   ]
  },
  {
   "cell_type": "code",
   "execution_count": 6,
   "metadata": {},
   "outputs": [
    {
     "data": {
      "text/plain": [
       "{'leaking_rate': 0.0, 'sparsity': 0.10000000000000001, 'spectral_radius': 0.0}"
      ]
     },
     "execution_count": 6,
     "metadata": {},
     "output_type": "execute_result"
    }
   ],
   "source": [
    "cv.best_params_"
   ]
  },
  {
   "cell_type": "code",
   "execution_count": 7,
   "metadata": {},
   "outputs": [
    {
     "data": {
      "text/plain": [
       "ESN(activation=<ufunc 'tanh'>, leaking_rate=0.0, n_reservoir=1000,\n",
       "  random_state=<mtrand.RandomState object at 0x7f7c534ac3f0>,\n",
       "  regularization=1, sparsity=0.10000000000000001, spectral_radius=0.0)"
      ]
     },
     "execution_count": 7,
     "metadata": {},
     "output_type": "execute_result"
    }
   ],
   "source": [
    "clf.set_params(**cv.best_params_)"
   ]
  },
  {
   "cell_type": "code",
   "execution_count": 8,
   "metadata": {},
   "outputs": [
    {
     "data": {
      "text/plain": [
       "ESN(activation=<ufunc 'tanh'>, leaking_rate=0.0, n_inputs=12, n_outputs=12,\n",
       "  n_reservoir=1000,\n",
       "  random_state=<mtrand.RandomState object at 0x7f7c534ac3f0>,\n",
       "  regularization=1, sparsity=0.10000000000000001, spectral_radius=0.0)"
      ]
     },
     "execution_count": 8,
     "metadata": {},
     "output_type": "execute_result"
    }
   ],
   "source": [
    "clf.fit(X_train,y_train)"
   ]
  },
  {
   "cell_type": "code",
   "execution_count": 9,
   "metadata": {
    "collapsed": true
   },
   "outputs": [],
   "source": [
    "y_pred = clf.predict(X_test)"
   ]
  },
  {
   "cell_type": "code",
   "execution_count": 10,
   "metadata": {},
   "outputs": [
    {
     "data": {
      "text/plain": [
       "[<matplotlib.lines.Line2D at 0x7f7c5058c438>]"
      ]
     },
     "execution_count": 10,
     "metadata": {},
     "output_type": "execute_result"
    },
    {
     "data": {
      "image/png": "[encoded data removed]",
      "text/plain": [
       "<matplotlib.figure.Figure at 0x7f7c5058c470>"
      ]
     },
     "metadata": {},
     "output_type": "display_data"
    }
   ],
   "source": [
    "plt.plot(y_pred[:,0],'r')\n",
    "plt.plot(y_test[:,0],'b')"
   ]
  },
  {
   "cell_type": "code",
   "execution_count": 11,
   "metadata": {
    "collapsed": true
   },
   "outputs": [],
   "source": [
    "import sklearn.metrics as metrics"
   ]
  },
  {
   "cell_type": "code",
   "execution_count": 12,
   "metadata": {},
   "outputs": [
    {
     "data": {
      "text/plain": [
       "0.40198693193686036"
      ]
     },
     "execution_count": 12,
     "metadata": {},
     "output_type": "execute_result"
    }
   ],
   "source": [
    "metrics.mean_absolute_error(y_test,y_pred)"
   ]
  },
  {
   "cell_type": "code",
   "execution_count": 13,
   "metadata": {},
   "outputs": [
    {
     "data": {
      "text/plain": [
       "0.24635920763274136"
      ]
     },
     "execution_count": 13,
     "metadata": {},
     "output_type": "execute_result"
    }
   ],
   "source": [
    "metrics.mean_squared_error(y_test[:,11],y_pred[:,11])"
   ]
  },
  {
   "cell_type": "code",
   "execution_count": null,
   "metadata": {
    "collapsed": true,
    "scrolled": true
   },
   "outputs": [],
   "source": [
    "#cv.cv_results_"
   ]
  },
  {
   "cell_type": "code",
   "execution_count": null,
   "metadata": {},
   "outputs": [
    {
     "name": "stdout",
     "output_type": "stream",
     "text": [
      "Fitting 5 folds for each of 375 candidates, totalling 1875 fits\n"
     ]
    },
    {
     "name": "stderr",
     "output_type": "stream",
     "text": [
      "[Parallel(n_jobs=-1)]: Done  42 tasks      | elapsed:    5.0s\n",
      "[Parallel(n_jobs=-1)]: Done 192 tasks      | elapsed:   11.1s\n",
      "[Parallel(n_jobs=-1)]: Done 442 tasks      | elapsed:   21.9s\n",
      "[Parallel(n_jobs=-1)]: Done 792 tasks      | elapsed:   38.1s\n",
      "[Parallel(n_jobs=-1)]: Done 1242 tasks      | elapsed:   59.6s\n"
     ]
    }
   ],
   "source": [
    "regressors_params = []\n",
    "def scorer(estimator, X,y):\n",
    "    y_pred = estimator.predict(X,cont=True)\n",
    "    #return metrics.r2_score(y,y_pred)\n",
    "    return -metrics.mean_squared_error(y,y_pred)\n",
    "\n",
    "for i in [11]:#range(12):\n",
    "    tscv = ms.TimeSeriesSplit(n_splits=5)\n",
    "    clf = ESN(random_state=42,n_reservoir=100)\n",
    "    params = {'regularization':np.linspace(1e-5,1,3),'spectral_radius':np.linspace(0,1,5), 'sparsity':np.linspace(0.1,0.99,5), 'leaking_rate':np.linspace(0,1,5)}\n",
    "    cv = ms.GridSearchCV(clf,params, n_jobs=-1, cv=tscv, verbose=True, scoring=scorer, iid=False)\n",
    "    cv.fit(X_train,y_train[:,i])\n",
    "    regressors_params.append(cv.best_params_)"
   ]
  },
  {
   "cell_type": "code",
   "execution_count": null,
   "metadata": {
    "collapsed": true
   },
   "outputs": [],
   "source": [
    "clf.set_params(**regressors_params[0])"
   ]
  },
  {
   "cell_type": "code",
   "execution_count": null,
   "metadata": {
    "collapsed": true
   },
   "outputs": [],
   "source": [
    "clf.fit(X_train,y_train[:,11])\n",
    "y_pred=clf.predict(X_test)"
   ]
  },
  {
   "cell_type": "code",
   "execution_count": null,
   "metadata": {
    "collapsed": true
   },
   "outputs": [],
   "source": [
    "plt.plot(y_pred)\n",
    "plt.plot(y_test[:,11])"
   ]
  },
  {
   "cell_type": "code",
   "execution_count": null,
   "metadata": {
    "collapsed": true
   },
   "outputs": [],
   "source": []
  }
 ],
 "metadata": {
  "kernelspec": {
   "display_name": "Python 3",
   "language": "python",
   "name": "python3"
  },
  "language_info": {
   "codemirror_mode": {
    "name": "ipython",
    "version": 3
   },
   "file_extension": ".py",
   "mimetype": "text/x-python",
   "name": "python",
   "nbconvert_exporter": "python",
   "pygments_lexer": "ipython3",
   "version": "3.6.1"
  }
 },
 "nbformat": 4,
 "nbformat_minor": 2
}
