{
 "cells": [
  {
   "cell_type": "code",
   "execution_count": 14,
   "metadata": {},
   "outputs": [],
   "source": [
    "import sys\n",
    "sys.path.append('../libs')\n",
    "\n",
    "from esnlib import *\n",
    "from helpers import *\n",
    "import pandas as pd\n",
    "\n",
    "from sklearn import preprocessing\n",
    "import sklearn.metrics as metrics\n",
    "\n",
    "import sklearn.model_selection as ms\n",
    "import matplotlib.pyplot as plt\n",
    "import sklearn.metrics as sm\n",
    "\n",
    "%matplotlib inline"
   ]
  },
  {
   "cell_type": "code",
   "execution_count": 15,
   "metadata": {},
   "outputs": [],
   "source": [
    "data = pd.read_csv('../../data/canela1_merged.csv',index_col=0).values\n",
    "\n",
    "\n",
    "input_steps = 12\n",
    "prediction_steps = 12\n",
    "train_perc = 0.8\n",
    "\n",
    "X,y = getDataWindowed(data,input_steps,prediction_steps)\n",
    "\n",
    "trainlen = int(train_perc*len(X))\n",
    "X_train,X_test = X[:trainlen], X[trainlen:]\n",
    "y_train,y_test = y[:trainlen], y[trainlen:]"
   ]
  },
  {
   "cell_type": "code",
   "execution_count": 16,
   "metadata": {
    "collapsed": true
   },
   "outputs": [],
   "source": [
    "minmax_in = preprocessing.MinMaxScaler(feature_range=(-1,1)) \n",
    "standarization_in = preprocessing.StandardScaler()\n",
    "minmax_out = preprocessing.MinMaxScaler(feature_range=(-1,1)) \n",
    "standarization_out = preprocessing.StandardScaler()\n",
    "\n",
    "minmax_in.fit(X_train)\n",
    "minmax_out.fit(y_train)\n",
    "standarization_in.fit(X_train)\n",
    "standarization_out.fit(X_train)\n",
    "preproc_in = minmax_in\n",
    "preproc_out = minmax_out"
   ]
  },
  {
   "cell_type": "code",
   "execution_count": 17,
   "metadata": {
    "collapsed": true
   },
   "outputs": [],
   "source": [
    "X_train = preproc_in.transform(X_train) if preproc_in else X_train\n",
    "X_test = preproc_in.transform(X_test) if preproc_in else X_test\n",
    "\n",
    "y_train = preproc_out.transform(y_train) if preproc_out else y_train\n",
    "y_test = preproc_out.transform(y_test) if preproc_out else y_test"
   ]
  },
  {
   "cell_type": "code",
   "execution_count": 27,
   "metadata": {
    "collapsed": true
   },
   "outputs": [],
   "source": [
    "def scorer(estimator, X,y):\n",
    "    y_pred = estimator.predict(X,cont=True)\n",
    "    return -metrics.mean_squared_error(y,y_pred)\n",
    "\n",
    "n_splits = 5\n",
    "tscv = ms.TimeSeriesSplit(n_splits=5)\n",
    "\n",
    "\n",
    "#PARAMS\n",
    "n_reservoir = 1000\n",
    "sparsity = 0.9\n",
    "leaking_rate = 0.3\n",
    "regularization=1e-8\n",
    "clf = ESN(random_state=42,n_reservoir=n_reservoir,sparsity=sparsity, \n",
    "          leaking_rate=leaking_rate,regularization=regularization)"
   ]
  },
  {
   "cell_type": "code",
   "execution_count": 28,
   "metadata": {},
   "outputs": [],
   "source": [
    "score = ms.cross_val_score(clf,X_train,y_train, cv = tscv, n_jobs=-1,scoring=scorer)"
   ]
  },
  {
   "cell_type": "code",
   "execution_count": 29,
   "metadata": {
    "scrolled": true
   },
   "outputs": [
    {
     "data": {
      "text/plain": [
       "ESN(activation=<ufunc 'tanh'>, leaking_rate=0.3, n_inputs=24, n_outputs=12,\n",
       "  n_reservoir=1000,\n",
       "  random_state=<mtrand.RandomState object at 0x7fd00b4cbaf8>,\n",
       "  regularization=1e-08, sparsity=0.9, spectral_radius=0.135)"
      ]
     },
     "execution_count": 29,
     "metadata": {},
     "output_type": "execute_result"
    }
   ],
   "source": [
    "clf.fit(X_train,y_train)"
   ]
  },
  {
   "cell_type": "code",
   "execution_count": 30,
   "metadata": {
    "collapsed": true
   },
   "outputs": [],
   "source": [
    "y_train_approx = clf.predict(X_train, cont=False)"
   ]
  },
  {
   "cell_type": "code",
   "execution_count": 31,
   "metadata": {
    "collapsed": true
   },
   "outputs": [],
   "source": [
    "y_test_approx = clf.predict(X_test,cont=True)"
   ]
  },
  {
   "cell_type": "code",
   "execution_count": 33,
   "metadata": {
    "scrolled": true
   },
   "outputs": [
    {
     "data": {
      "text/html": [
       "<div>\n",
       "<style>\n",
       "    .dataframe thead tr:only-child th {\n",
       "        text-align: right;\n",
       "    }\n",
       "\n",
       "    .dataframe thead th {\n",
       "        text-align: left;\n",
       "    }\n",
       "\n",
       "    .dataframe tbody tr th {\n",
       "        vertical-align: top;\n",
       "    }\n",
       "</style>\n",
       "<table border=\"1\" class=\"dataframe\">\n",
       "  <thead>\n",
       "    <tr style=\"text-align: right;\">\n",
       "      <th></th>\n",
       "      <th>$t+0$</th>\n",
       "      <th>$t+1$</th>\n",
       "      <th>$t+2$</th>\n",
       "      <th>$t+3$</th>\n",
       "      <th>$t+4$</th>\n",
       "      <th>$t+5$</th>\n",
       "      <th>$t+6$</th>\n",
       "      <th>$t+7$</th>\n",
       "      <th>$t+8$</th>\n",
       "      <th>$t+9$</th>\n",
       "      <th>$t+10$</th>\n",
       "      <th>$t+11$</th>\n",
       "      <th>$\\overline{t+i}$</th>\n",
       "    </tr>\n",
       "  </thead>\n",
       "  <tbody>\n",
       "    <tr>\n",
       "      <th>MAE</th>\n",
       "      <td>0.120902</td>\n",
       "      <td>0.147499</td>\n",
       "      <td>0.168916</td>\n",
       "      <td>0.186018</td>\n",
       "      <td>0.199303</td>\n",
       "      <td>0.209319</td>\n",
       "      <td>0.217409</td>\n",
       "      <td>0.223745</td>\n",
       "      <td>0.229176</td>\n",
       "      <td>0.233148</td>\n",
       "      <td>0.236005</td>\n",
       "      <td>0.237974</td>\n",
       "      <td>0.200784</td>\n",
       "    </tr>\n",
       "    <tr>\n",
       "      <th>MSE</th>\n",
       "      <td>0.033677</td>\n",
       "      <td>0.047371</td>\n",
       "      <td>0.059674</td>\n",
       "      <td>0.070583</td>\n",
       "      <td>0.079341</td>\n",
       "      <td>0.086024</td>\n",
       "      <td>0.091255</td>\n",
       "      <td>0.095406</td>\n",
       "      <td>0.099103</td>\n",
       "      <td>0.101719</td>\n",
       "      <td>0.103479</td>\n",
       "      <td>0.104925</td>\n",
       "      <td>0.081046</td>\n",
       "    </tr>\n",
       "    <tr>\n",
       "      <th>MeAE</th>\n",
       "      <td>0.070746</td>\n",
       "      <td>0.091768</td>\n",
       "      <td>0.108789</td>\n",
       "      <td>0.123674</td>\n",
       "      <td>0.135794</td>\n",
       "      <td>0.145852</td>\n",
       "      <td>0.154943</td>\n",
       "      <td>0.162098</td>\n",
       "      <td>0.167601</td>\n",
       "      <td>0.170925</td>\n",
       "      <td>0.172947</td>\n",
       "      <td>0.174444</td>\n",
       "      <td>0.139965</td>\n",
       "    </tr>\n",
       "    <tr>\n",
       "      <th>MAPE</th>\n",
       "      <td>0.181372</td>\n",
       "      <td>0.221260</td>\n",
       "      <td>0.253373</td>\n",
       "      <td>0.279009</td>\n",
       "      <td>0.298912</td>\n",
       "      <td>0.313906</td>\n",
       "      <td>0.326009</td>\n",
       "      <td>0.335481</td>\n",
       "      <td>0.343596</td>\n",
       "      <td>0.349522</td>\n",
       "      <td>0.353785</td>\n",
       "      <td>0.356720</td>\n",
       "      <td>0.301079</td>\n",
       "    </tr>\n",
       "    <tr>\n",
       "      <th>$r^2$</th>\n",
       "      <td>0.811276</td>\n",
       "      <td>0.734465</td>\n",
       "      <td>0.665406</td>\n",
       "      <td>0.604120</td>\n",
       "      <td>0.554868</td>\n",
       "      <td>0.517162</td>\n",
       "      <td>0.487599</td>\n",
       "      <td>0.464061</td>\n",
       "      <td>0.443116</td>\n",
       "      <td>0.428225</td>\n",
       "      <td>0.418230</td>\n",
       "      <td>0.410039</td>\n",
       "      <td>0.544881</td>\n",
       "    </tr>\n",
       "  </tbody>\n",
       "</table>\n",
       "</div>"
      ],
      "text/plain": [
       "          $t+0$     $t+1$     $t+2$     $t+3$     $t+4$     $t+5$     $t+6$  \\\n",
       "MAE    0.120902  0.147499  0.168916  0.186018  0.199303  0.209319  0.217409   \n",
       "MSE    0.033677  0.047371  0.059674  0.070583  0.079341  0.086024  0.091255   \n",
       "MeAE   0.070746  0.091768  0.108789  0.123674  0.135794  0.145852  0.154943   \n",
       "MAPE   0.181372  0.221260  0.253373  0.279009  0.298912  0.313906  0.326009   \n",
       "$r^2$  0.811276  0.734465  0.665406  0.604120  0.554868  0.517162  0.487599   \n",
       "\n",
       "          $t+7$     $t+8$     $t+9$    $t+10$    $t+11$  $\\overline{t+i}$  \n",
       "MAE    0.223745  0.229176  0.233148  0.236005  0.237974          0.200784  \n",
       "MSE    0.095406  0.099103  0.101719  0.103479  0.104925          0.081046  \n",
       "MeAE   0.162098  0.167601  0.170925  0.172947  0.174444          0.139965  \n",
       "MAPE   0.335481  0.343596  0.349522  0.353785  0.356720          0.301079  \n",
       "$r^2$  0.464061  0.443116  0.428225  0.418230  0.410039          0.544881  "
      ]
     },
     "execution_count": 33,
     "metadata": {},
     "output_type": "execute_result"
    }
   ],
   "source": [
    "show_errors(y_train,y_train_approx)"
   ]
  },
  {
   "cell_type": "code",
   "execution_count": 34,
   "metadata": {
    "scrolled": true
   },
   "outputs": [
    {
     "data": {
      "text/html": [
       "<div>\n",
       "<style>\n",
       "    .dataframe thead tr:only-child th {\n",
       "        text-align: right;\n",
       "    }\n",
       "\n",
       "    .dataframe thead th {\n",
       "        text-align: left;\n",
       "    }\n",
       "\n",
       "    .dataframe tbody tr th {\n",
       "        vertical-align: top;\n",
       "    }\n",
       "</style>\n",
       "<table border=\"1\" class=\"dataframe\">\n",
       "  <thead>\n",
       "    <tr style=\"text-align: right;\">\n",
       "      <th></th>\n",
       "      <th>$t+0$</th>\n",
       "      <th>$t+1$</th>\n",
       "      <th>$t+2$</th>\n",
       "      <th>$t+3$</th>\n",
       "      <th>$t+4$</th>\n",
       "      <th>$t+5$</th>\n",
       "      <th>$t+6$</th>\n",
       "      <th>$t+7$</th>\n",
       "      <th>$t+8$</th>\n",
       "      <th>$t+9$</th>\n",
       "      <th>$t+10$</th>\n",
       "      <th>$t+11$</th>\n",
       "      <th>$\\overline{t+i}$</th>\n",
       "    </tr>\n",
       "  </thead>\n",
       "  <tbody>\n",
       "    <tr>\n",
       "      <th>MAE</th>\n",
       "      <td>0.141676</td>\n",
       "      <td>0.172388</td>\n",
       "      <td>0.197288</td>\n",
       "      <td>0.216115</td>\n",
       "      <td>0.232339</td>\n",
       "      <td>0.245163</td>\n",
       "      <td>0.255375</td>\n",
       "      <td>0.264395</td>\n",
       "      <td>0.269600</td>\n",
       "      <td>0.274513</td>\n",
       "      <td>0.275167</td>\n",
       "      <td>0.275303</td>\n",
       "      <td>0.234943</td>\n",
       "    </tr>\n",
       "    <tr>\n",
       "      <th>MSE</th>\n",
       "      <td>0.048313</td>\n",
       "      <td>0.066241</td>\n",
       "      <td>0.082209</td>\n",
       "      <td>0.095085</td>\n",
       "      <td>0.107038</td>\n",
       "      <td>0.118296</td>\n",
       "      <td>0.126571</td>\n",
       "      <td>0.134929</td>\n",
       "      <td>0.138691</td>\n",
       "      <td>0.142665</td>\n",
       "      <td>0.142320</td>\n",
       "      <td>0.142175</td>\n",
       "      <td>0.112044</td>\n",
       "    </tr>\n",
       "    <tr>\n",
       "      <th>MeAE</th>\n",
       "      <td>0.082685</td>\n",
       "      <td>0.106366</td>\n",
       "      <td>0.127411</td>\n",
       "      <td>0.141769</td>\n",
       "      <td>0.159112</td>\n",
       "      <td>0.168330</td>\n",
       "      <td>0.177799</td>\n",
       "      <td>0.186092</td>\n",
       "      <td>0.190582</td>\n",
       "      <td>0.193120</td>\n",
       "      <td>0.196174</td>\n",
       "      <td>0.196944</td>\n",
       "      <td>0.160532</td>\n",
       "    </tr>\n",
       "    <tr>\n",
       "      <th>MAPE</th>\n",
       "      <td>0.211257</td>\n",
       "      <td>0.257984</td>\n",
       "      <td>0.296113</td>\n",
       "      <td>0.325441</td>\n",
       "      <td>0.352095</td>\n",
       "      <td>0.373027</td>\n",
       "      <td>0.389269</td>\n",
       "      <td>0.404158</td>\n",
       "      <td>0.411679</td>\n",
       "      <td>0.418690</td>\n",
       "      <td>0.418760</td>\n",
       "      <td>0.417604</td>\n",
       "      <td>0.356340</td>\n",
       "    </tr>\n",
       "    <tr>\n",
       "      <th>$r^2$</th>\n",
       "      <td>0.622323</td>\n",
       "      <td>0.426316</td>\n",
       "      <td>0.225252</td>\n",
       "      <td>0.036894</td>\n",
       "      <td>-0.135887</td>\n",
       "      <td>-0.304546</td>\n",
       "      <td>-0.462686</td>\n",
       "      <td>-0.611683</td>\n",
       "      <td>-0.740232</td>\n",
       "      <td>-0.885267</td>\n",
       "      <td>-0.990201</td>\n",
       "      <td>-1.050083</td>\n",
       "      <td>-0.322483</td>\n",
       "    </tr>\n",
       "  </tbody>\n",
       "</table>\n",
       "</div>"
      ],
      "text/plain": [
       "          $t+0$     $t+1$     $t+2$     $t+3$     $t+4$     $t+5$     $t+6$  \\\n",
       "MAE    0.141676  0.172388  0.197288  0.216115  0.232339  0.245163  0.255375   \n",
       "MSE    0.048313  0.066241  0.082209  0.095085  0.107038  0.118296  0.126571   \n",
       "MeAE   0.082685  0.106366  0.127411  0.141769  0.159112  0.168330  0.177799   \n",
       "MAPE   0.211257  0.257984  0.296113  0.325441  0.352095  0.373027  0.389269   \n",
       "$r^2$  0.622323  0.426316  0.225252  0.036894 -0.135887 -0.304546 -0.462686   \n",
       "\n",
       "          $t+7$     $t+8$     $t+9$    $t+10$    $t+11$  $\\overline{t+i}$  \n",
       "MAE    0.264395  0.269600  0.274513  0.275167  0.275303          0.234943  \n",
       "MSE    0.134929  0.138691  0.142665  0.142320  0.142175          0.112044  \n",
       "MeAE   0.186092  0.190582  0.193120  0.196174  0.196944          0.160532  \n",
       "MAPE   0.404158  0.411679  0.418690  0.418760  0.417604          0.356340  \n",
       "$r^2$ -0.611683 -0.740232 -0.885267 -0.990201 -1.050083         -0.322483  "
      ]
     },
     "execution_count": 34,
     "metadata": {},
     "output_type": "execute_result"
    }
   ],
   "source": [
    "show_errors(y_test_approx , y_test)"
   ]
  },
  {
   "cell_type": "code",
   "execution_count": 37,
   "metadata": {},
   "outputs": [
    {
     "data": {
      "text/plain": [
       "<matplotlib.legend.Legend at 0x7fd00c049ac8>"
      ]
     },
     "execution_count": 37,
     "metadata": {},
     "output_type": "execute_result"
    },
    {
     "data": {
      "image/png": "[encoded data removed]",
      "text/plain": [
       "<matplotlib.figure.Figure at 0x7fd00b05d748>"
      ]
     },
     "metadata": {},
     "output_type": "display_data"
    }
   ],
   "source": [
    "plt.plot(y_test[:100,11],label=\"real\")\n",
    "plt.plot(y_test_approx[:100,11],label=\"predicted\")\n",
    "plt.legend()"
   ]
  },
  {
   "cell_type": "code",
   "execution_count": 35,
   "metadata": {},
   "outputs": [
    {
     "data": {
      "text/plain": [
       "<matplotlib.legend.Legend at 0x7fd00b237e48>"
      ]
     },
     "execution_count": 35,
     "metadata": {},
     "output_type": "execute_result"
    },
    {
     "data": {
      "image/png": "[encoded data removed]",
      "text/plain": [
       "<matplotlib.figure.Figure at 0x7fd0092530b8>"
      ]
     },
     "metadata": {},
     "output_type": "display_data"
    }
   ],
   "source": [
    "plt.plot(y_train[:100,11],label=\"real\")\n",
    "plt.plot(y_train_approx[:100,11],label=\"predicted\")\n",
    "plt.legend()"
   ]
  },
  {
   "cell_type": "code",
   "execution_count": null,
   "metadata": {
    "collapsed": true
   },
   "outputs": [],
   "source": []
  },
  {
   "cell_type": "code",
   "execution_count": 14,
   "metadata": {
    "scrolled": true
   },
   "outputs": [
    {
     "data": {
      "text/html": [
       "<div>\n",
       "<style>\n",
       "    .dataframe thead tr:only-child th {\n",
       "        text-align: right;\n",
       "    }\n",
       "\n",
       "    .dataframe thead th {\n",
       "        text-align: left;\n",
       "    }\n",
       "\n",
       "    .dataframe tbody tr th {\n",
       "        vertical-align: top;\n",
       "    }\n",
       "</style>\n",
       "<table border=\"1\" class=\"dataframe\">\n",
       "  <thead>\n",
       "    <tr style=\"text-align: right;\">\n",
       "      <th></th>\n",
       "      <th>$t+0$</th>\n",
       "      <th>$t+1$</th>\n",
       "      <th>$t+2$</th>\n",
       "      <th>$t+3$</th>\n",
       "      <th>$t+4$</th>\n",
       "      <th>$t+5$</th>\n",
       "      <th>$t+6$</th>\n",
       "      <th>$t+7$</th>\n",
       "      <th>$t+8$</th>\n",
       "      <th>$t+9$</th>\n",
       "      <th>$t+10$</th>\n",
       "      <th>$t+11$</th>\n",
       "      <th>$\\overline{t+i}$</th>\n",
       "    </tr>\n",
       "  </thead>\n",
       "  <tbody>\n",
       "    <tr>\n",
       "      <th>MAE</th>\n",
       "      <td>0.125581</td>\n",
       "      <td>0.154745</td>\n",
       "      <td>0.177976</td>\n",
       "      <td>0.196401</td>\n",
       "      <td>0.210884</td>\n",
       "      <td>0.222410</td>\n",
       "      <td>0.232387</td>\n",
       "      <td>0.240493</td>\n",
       "      <td>0.246924</td>\n",
       "      <td>0.252156</td>\n",
       "      <td>0.256376</td>\n",
       "      <td>0.259556</td>\n",
       "      <td>0.214658</td>\n",
       "    </tr>\n",
       "    <tr>\n",
       "      <th>MSE</th>\n",
       "      <td>0.037381</td>\n",
       "      <td>0.053193</td>\n",
       "      <td>0.067235</td>\n",
       "      <td>0.079098</td>\n",
       "      <td>0.089025</td>\n",
       "      <td>0.097184</td>\n",
       "      <td>0.103956</td>\n",
       "      <td>0.109483</td>\n",
       "      <td>0.113957</td>\n",
       "      <td>0.117614</td>\n",
       "      <td>0.120473</td>\n",
       "      <td>0.122690</td>\n",
       "      <td>0.092607</td>\n",
       "    </tr>\n",
       "    <tr>\n",
       "      <th>MeAE</th>\n",
       "      <td>0.070286</td>\n",
       "      <td>0.091421</td>\n",
       "      <td>0.109724</td>\n",
       "      <td>0.126503</td>\n",
       "      <td>0.137753</td>\n",
       "      <td>0.147311</td>\n",
       "      <td>0.155646</td>\n",
       "      <td>0.163836</td>\n",
       "      <td>0.169412</td>\n",
       "      <td>0.174446</td>\n",
       "      <td>0.177836</td>\n",
       "      <td>0.180622</td>\n",
       "      <td>0.142066</td>\n",
       "    </tr>\n",
       "    <tr>\n",
       "      <th>MAPE</th>\n",
       "      <td>0.184180</td>\n",
       "      <td>0.226949</td>\n",
       "      <td>0.261014</td>\n",
       "      <td>0.288032</td>\n",
       "      <td>0.309269</td>\n",
       "      <td>0.326167</td>\n",
       "      <td>0.340793</td>\n",
       "      <td>0.352678</td>\n",
       "      <td>0.362107</td>\n",
       "      <td>0.369772</td>\n",
       "      <td>0.375954</td>\n",
       "      <td>0.380606</td>\n",
       "      <td>0.314794</td>\n",
       "    </tr>\n",
       "    <tr>\n",
       "      <th>$r^2$</th>\n",
       "      <td>0.771711</td>\n",
       "      <td>0.675134</td>\n",
       "      <td>0.589373</td>\n",
       "      <td>0.516923</td>\n",
       "      <td>0.456306</td>\n",
       "      <td>0.406473</td>\n",
       "      <td>0.365114</td>\n",
       "      <td>0.331361</td>\n",
       "      <td>0.304033</td>\n",
       "      <td>0.281668</td>\n",
       "      <td>0.264175</td>\n",
       "      <td>0.250583</td>\n",
       "      <td>0.434405</td>\n",
       "    </tr>\n",
       "  </tbody>\n",
       "</table>\n",
       "</div>"
      ],
      "text/plain": [
       "          $t+0$     $t+1$     $t+2$     $t+3$     $t+4$     $t+5$     $t+6$  \\\n",
       "MAE    0.125581  0.154745  0.177976  0.196401  0.210884  0.222410  0.232387   \n",
       "MSE    0.037381  0.053193  0.067235  0.079098  0.089025  0.097184  0.103956   \n",
       "MeAE   0.070286  0.091421  0.109724  0.126503  0.137753  0.147311  0.155646   \n",
       "MAPE   0.184180  0.226949  0.261014  0.288032  0.309269  0.326167  0.340793   \n",
       "$r^2$  0.771711  0.675134  0.589373  0.516923  0.456306  0.406473  0.365114   \n",
       "\n",
       "          $t+7$     $t+8$     $t+9$    $t+10$    $t+11$  $\\overline{t+i}$  \n",
       "MAE    0.240493  0.246924  0.252156  0.256376  0.259556          0.214658  \n",
       "MSE    0.109483  0.113957  0.117614  0.120473  0.122690          0.092607  \n",
       "MeAE   0.163836  0.169412  0.174446  0.177836  0.180622          0.142066  \n",
       "MAPE   0.352678  0.362107  0.369772  0.375954  0.380606          0.314794  \n",
       "$r^2$  0.331361  0.304033  0.281668  0.264175  0.250583          0.434405  "
      ]
     },
     "execution_count": 14,
     "metadata": {},
     "output_type": "execute_result"
    }
   ],
   "source": [
    "show_errors(y_train,y_train_approx)"
   ]
  },
  {
   "cell_type": "code",
   "execution_count": 15,
   "metadata": {
    "scrolled": true
   },
   "outputs": [
    {
     "data": {
      "text/html": [
       "<div>\n",
       "<style>\n",
       "    .dataframe thead tr:only-child th {\n",
       "        text-align: right;\n",
       "    }\n",
       "\n",
       "    .dataframe thead th {\n",
       "        text-align: left;\n",
       "    }\n",
       "\n",
       "    .dataframe tbody tr th {\n",
       "        vertical-align: top;\n",
       "    }\n",
       "</style>\n",
       "<table border=\"1\" class=\"dataframe\">\n",
       "  <thead>\n",
       "    <tr style=\"text-align: right;\">\n",
       "      <th></th>\n",
       "      <th>$t+0$</th>\n",
       "      <th>$t+1$</th>\n",
       "      <th>$t+2$</th>\n",
       "      <th>$t+3$</th>\n",
       "      <th>$t+4$</th>\n",
       "      <th>$t+5$</th>\n",
       "      <th>$t+6$</th>\n",
       "      <th>$t+7$</th>\n",
       "      <th>$t+8$</th>\n",
       "      <th>$t+9$</th>\n",
       "      <th>$t+10$</th>\n",
       "      <th>$t+11$</th>\n",
       "      <th>$\\overline{t+i}$</th>\n",
       "    </tr>\n",
       "  </thead>\n",
       "  <tbody>\n",
       "    <tr>\n",
       "      <th>MAE</th>\n",
       "      <td>0.122979</td>\n",
       "      <td>0.152586</td>\n",
       "      <td>0.173727</td>\n",
       "      <td>0.191772</td>\n",
       "      <td>0.206370</td>\n",
       "      <td>0.218404</td>\n",
       "      <td>0.227777</td>\n",
       "      <td>0.235411</td>\n",
       "      <td>0.241406</td>\n",
       "      <td>0.246193</td>\n",
       "      <td>0.249735</td>\n",
       "      <td>0.252700</td>\n",
       "      <td>0.209922</td>\n",
       "    </tr>\n",
       "    <tr>\n",
       "      <th>MSE</th>\n",
       "      <td>0.037659</td>\n",
       "      <td>0.053567</td>\n",
       "      <td>0.066225</td>\n",
       "      <td>0.077203</td>\n",
       "      <td>0.086059</td>\n",
       "      <td>0.093457</td>\n",
       "      <td>0.099301</td>\n",
       "      <td>0.104150</td>\n",
       "      <td>0.107780</td>\n",
       "      <td>0.110650</td>\n",
       "      <td>0.112628</td>\n",
       "      <td>0.114405</td>\n",
       "      <td>0.088590</td>\n",
       "    </tr>\n",
       "    <tr>\n",
       "      <th>MeAE</th>\n",
       "      <td>0.066551</td>\n",
       "      <td>0.089757</td>\n",
       "      <td>0.107677</td>\n",
       "      <td>0.123532</td>\n",
       "      <td>0.137028</td>\n",
       "      <td>0.147114</td>\n",
       "      <td>0.157542</td>\n",
       "      <td>0.164248</td>\n",
       "      <td>0.171180</td>\n",
       "      <td>0.176488</td>\n",
       "      <td>0.181269</td>\n",
       "      <td>0.183822</td>\n",
       "      <td>0.142184</td>\n",
       "    </tr>\n",
       "    <tr>\n",
       "      <th>MAPE</th>\n",
       "      <td>0.170973</td>\n",
       "      <td>0.212962</td>\n",
       "      <td>0.243323</td>\n",
       "      <td>0.269445</td>\n",
       "      <td>0.290827</td>\n",
       "      <td>0.308563</td>\n",
       "      <td>0.322500</td>\n",
       "      <td>0.333907</td>\n",
       "      <td>0.342936</td>\n",
       "      <td>0.350099</td>\n",
       "      <td>0.355422</td>\n",
       "      <td>0.359871</td>\n",
       "      <td>0.296736</td>\n",
       "    </tr>\n",
       "    <tr>\n",
       "      <th>$r^2$</th>\n",
       "      <td>0.644739</td>\n",
       "      <td>0.421093</td>\n",
       "      <td>0.178345</td>\n",
       "      <td>-0.091982</td>\n",
       "      <td>-0.376264</td>\n",
       "      <td>-0.674565</td>\n",
       "      <td>-0.980967</td>\n",
       "      <td>-1.289731</td>\n",
       "      <td>-1.577434</td>\n",
       "      <td>-1.849784</td>\n",
       "      <td>-2.077941</td>\n",
       "      <td>-2.286026</td>\n",
       "      <td>-0.830043</td>\n",
       "    </tr>\n",
       "  </tbody>\n",
       "</table>\n",
       "</div>"
      ],
      "text/plain": [
       "          $t+0$     $t+1$     $t+2$     $t+3$     $t+4$     $t+5$     $t+6$  \\\n",
       "MAE    0.122979  0.152586  0.173727  0.191772  0.206370  0.218404  0.227777   \n",
       "MSE    0.037659  0.053567  0.066225  0.077203  0.086059  0.093457  0.099301   \n",
       "MeAE   0.066551  0.089757  0.107677  0.123532  0.137028  0.147114  0.157542   \n",
       "MAPE   0.170973  0.212962  0.243323  0.269445  0.290827  0.308563  0.322500   \n",
       "$r^2$  0.644739  0.421093  0.178345 -0.091982 -0.376264 -0.674565 -0.980967   \n",
       "\n",
       "          $t+7$     $t+8$     $t+9$    $t+10$    $t+11$  $\\overline{t+i}$  \n",
       "MAE    0.235411  0.241406  0.246193  0.249735  0.252700          0.209922  \n",
       "MSE    0.104150  0.107780  0.110650  0.112628  0.114405          0.088590  \n",
       "MeAE   0.164248  0.171180  0.176488  0.181269  0.183822          0.142184  \n",
       "MAPE   0.333907  0.342936  0.350099  0.355422  0.359871          0.296736  \n",
       "$r^2$ -1.289731 -1.577434 -1.849784 -2.077941 -2.286026         -0.830043  "
      ]
     },
     "execution_count": 15,
     "metadata": {},
     "output_type": "execute_result"
    }
   ],
   "source": [
    "show_errors(y_test_approx , y_test)"
   ]
  }
 ],
 "metadata": {
  "kernelspec": {
   "display_name": "Python 3",
   "language": "python",
   "name": "python3"
  },
  "language_info": {
   "codemirror_mode": {
    "name": "ipython",
    "version": 3
   },
   "file_extension": ".py",
   "mimetype": "text/x-python",
   "name": "python",
   "nbconvert_exporter": "python",
   "pygments_lexer": "ipython3",
   "version": "3.6.2"
  },
  "toc": {
   "colors": {
    "hover_highlight": "#DAA520",
    "navigate_num": "#000000",
    "navigate_text": "#333333",
    "running_highlight": "#FF0000",
    "selected_highlight": "#FFD700",
    "sidebar_border": "#EEEEEE",
    "wrapper_background": "#FFFFFF"
   },
   "moveMenuLeft": true,
   "nav_menu": {
    "height": "12px",
    "width": "252px"
   },
   "navigate_menu": true,
   "number_sections": true,
   "sideBar": true,
   "threshold": 4,
   "toc_cell": false,
   "toc_section_display": "block",
   "toc_window_display": false,
   "widenNotebook": false
  }
 },
 "nbformat": 4,
 "nbformat_minor": 2
}
